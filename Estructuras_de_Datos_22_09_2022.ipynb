{
  "nbformat": 4,
  "nbformat_minor": 0,
  "metadata": {
    "colab": {
      "provenance": [],
      "collapsed_sections": [],
      "authorship_tag": "ABX9TyOhkazgBgMmSDSUglD/HcTP",
      "include_colab_link": true
    },
    "kernelspec": {
      "name": "python3",
      "display_name": "Python 3"
    },
    "language_info": {
      "name": "python"
    }
  },
  "cells": [
    {
      "cell_type": "markdown",
      "metadata": {
        "id": "view-in-github",
        "colab_type": "text"
      },
      "source": [
        "<a href=\"https://colab.research.google.com/github/ChristianIES/EST1121/blob/main/Estructuras_de_Datos_22_09_2022.ipynb\" target=\"_parent\"><img src=\"https://colab.research.google.com/assets/colab-badge.svg\" alt=\"Open In Colab\"/></a>"
      ]
    },
    {
      "cell_type": "markdown",
      "source": [
        "* Clase Pila:"
      ],
      "metadata": {
        "id": "wjqa-6xvuJkg"
      }
    },
    {
      "cell_type": "code",
      "execution_count": null,
      "metadata": {
        "id": "BSAY_wxUYSnp"
      },
      "outputs": [],
      "source": [
        "class Nodo:\n",
        "  def __init__(self, dato):\n",
        "    self.data=dato\n",
        "    self.proximo=None"
      ]
    },
    {
      "cell_type": "code",
      "source": [
        "class Pila:\n",
        "  def __init__(self):\n",
        "    self.cima=None\n",
        "    self.items=0\n",
        "  \n",
        "  def agregar(self, numero):\n",
        "    nodo1=Nodo(numero)\n",
        "    nodo1.proximo=self.cima\n",
        "    self.items=self.items+1\n",
        "    self.cima=nodo1\n",
        "  \n",
        "  def imprimirCima(self):\n",
        "    return(self.cima.data)       \n",
        "  \n",
        "  def eliminar(self):\n",
        "    if self.items==0:\n",
        "      print(\"Pila vacia\")\n",
        "    else:\n",
        "      self.items=self.items-1\n",
        "      print(\"Se ha eliminado: \", self.cima.data)\n",
        "      self.cima=self.cima.proximo\n",
        "  \n"
      ],
      "metadata": {
        "id": "9T9ERyjlfQOV"
      },
      "execution_count": null,
      "outputs": []
    },
    {
      "cell_type": "code",
      "source": [
        "p=Pila()\n",
        "p.agregar(10)\n",
        "p.agregar(11)\n",
        "print(p.cima.data)"
      ],
      "metadata": {
        "colab": {
          "base_uri": "https://localhost:8080/"
        },
        "id": "DEd50fDVjo6K",
        "outputId": "cda0bddd-0c7a-45a6-ce1c-8f3a666d8616"
      },
      "execution_count": null,
      "outputs": [
        {
          "output_type": "stream",
          "name": "stdout",
          "text": [
            "11\n"
          ]
        }
      ]
    },
    {
      "cell_type": "code",
      "source": [
        "print(p.imprimirCima())"
      ],
      "metadata": {
        "colab": {
          "base_uri": "https://localhost:8080/"
        },
        "id": "t8TETHypkBLS",
        "outputId": "538f779c-99b7-44ae-c011-7991933c4af7"
      },
      "execution_count": null,
      "outputs": [
        {
          "output_type": "stream",
          "name": "stdout",
          "text": [
            "11\n"
          ]
        }
      ]
    },
    {
      "cell_type": "code",
      "source": [
        "p.eliminar()"
      ],
      "metadata": {
        "colab": {
          "base_uri": "https://localhost:8080/"
        },
        "id": "0G_B_n40k5TC",
        "outputId": "2a5c4591-2794-4f34-fa1b-ab6ff7ac397e"
      },
      "execution_count": null,
      "outputs": [
        {
          "output_type": "stream",
          "name": "stdout",
          "text": [
            "Se ha eliminado:  11\n"
          ]
        }
      ]
    },
    {
      "cell_type": "code",
      "source": [
        "p.eliminar()"
      ],
      "metadata": {
        "colab": {
          "base_uri": "https://localhost:8080/"
        },
        "id": "1snTtKagfyfu",
        "outputId": "b01f8b87-d5e7-4c66-e60d-6bb6f83241bb"
      },
      "execution_count": null,
      "outputs": [
        {
          "output_type": "stream",
          "name": "stdout",
          "text": [
            "Se ha eliminado:  10\n"
          ]
        }
      ]
    },
    {
      "cell_type": "code",
      "source": [
        "p.eliminar()"
      ],
      "metadata": {
        "colab": {
          "base_uri": "https://localhost:8080/"
        },
        "id": "oPmylK40lm4p",
        "outputId": "68b2e404-a90e-4aa1-97ea-4da49ddc7e76"
      },
      "execution_count": null,
      "outputs": [
        {
          "output_type": "stream",
          "name": "stdout",
          "text": [
            "Pila vacia\n"
          ]
        }
      ]
    },
    {
      "cell_type": "markdown",
      "source": [
        "* Clase Cola:"
      ],
      "metadata": {
        "id": "NaRd0RoruGNw"
      }
    },
    {
      "cell_type": "code",
      "source": [
        "class Nodo:\n",
        "  def __init__(self, dato):\n",
        "    self.data=dato\n",
        "    self.proximo=None"
      ],
      "metadata": {
        "id": "2oiAGUgBuIXE"
      },
      "execution_count": null,
      "outputs": []
    },
    {
      "cell_type": "code",
      "source": [
        "class Cola:\n",
        "  def __init__(self):\n",
        "    self.cabecera=None\n",
        "    self.items=0\n",
        "  \n",
        "  def agregar(self, numero):\n",
        "    nodo1=Nodo(numero)\n",
        "    if self.items==0:\n",
        "      nodo1.proximo=None\n",
        "      self.cabecera=nodo1\n",
        "      self.items=1\n",
        "    else:\n",
        "      ini=self.cabecera\n",
        "      while ini.proximo!=None:\n",
        "        ini=ini.proximo\n",
        "      nodo1.proximo=None\n",
        "      ini.proximo=nodo1\n",
        "      self.items=self.items+1\n",
        "\n",
        "  def imprimirCola(self):\n",
        "    if self.items==0:\n",
        "      print(\"Cola vacia\")\n",
        "    else:\n",
        "      ini=self.cabecera\n",
        "      k=1\n",
        "      while ini!=None:\n",
        "        print(\"El dato \", k,  \" es: \",ini.data)\n",
        "        k=k+1\n",
        "        ini=ini.proximo     \n",
        "  \n",
        "  def eliminar(self):\n",
        "    if self.items==0:\n",
        "      print(\"Cola vacia\")\n",
        "    else:\n",
        "      self.items=self.items-1\n",
        "      print(\"Se ha eliminado: \", self.cabecera.data)\n",
        "      self.cabecera=self.cabecera.proximo"
      ],
      "metadata": {
        "id": "Q1n2vJJcueGR"
      },
      "execution_count": null,
      "outputs": []
    },
    {
      "cell_type": "code",
      "source": [
        "#ejemplo de uso:\n",
        "c=Cola()\n",
        "c.agregar(10)\n",
        "c.agregar(-1)\n",
        "c.agregar(0)\n",
        "c.agregar(3)\n",
        "c.agregar(100)"
      ],
      "metadata": {
        "id": "0uf_LJzryYQH"
      },
      "execution_count": null,
      "outputs": []
    },
    {
      "cell_type": "code",
      "source": [
        "c.imprimirCola()"
      ],
      "metadata": {
        "colab": {
          "base_uri": "https://localhost:8080/"
        },
        "id": "eNDUNQuryjk3",
        "outputId": "ab410b89-4ca5-43b6-9bd2-498e40e18d46"
      },
      "execution_count": null,
      "outputs": [
        {
          "output_type": "stream",
          "name": "stdout",
          "text": [
            "El dato  1  es:  10\n",
            "El dato  2  es:  -1\n",
            "El dato  3  es:  0\n",
            "El dato  4  es:  3\n",
            "El dato  5  es:  100\n"
          ]
        }
      ]
    },
    {
      "cell_type": "code",
      "source": [
        "c.agregar(5)\n",
        "c.imprimirCola()"
      ],
      "metadata": {
        "colab": {
          "base_uri": "https://localhost:8080/"
        },
        "id": "IF7D4TOqy8yO",
        "outputId": "0817f4fe-8406-48b3-ea7b-0b81d146c94a"
      },
      "execution_count": null,
      "outputs": [
        {
          "output_type": "stream",
          "name": "stdout",
          "text": [
            "El dato  1  es:  10\n",
            "El dato  2  es:  -1\n",
            "El dato  3  es:  0\n",
            "El dato  4  es:  3\n",
            "El dato  5  es:  100\n",
            "El dato  6  es:  5\n"
          ]
        }
      ]
    },
    {
      "cell_type": "code",
      "source": [
        "c.eliminar()"
      ],
      "metadata": {
        "colab": {
          "base_uri": "https://localhost:8080/"
        },
        "id": "AK-pnQ7DzCOv",
        "outputId": "9dd43e8f-de1e-4973-a189-3a643fd82b76"
      },
      "execution_count": null,
      "outputs": [
        {
          "output_type": "stream",
          "name": "stdout",
          "text": [
            "Se ha eliminado:  10\n"
          ]
        }
      ]
    },
    {
      "cell_type": "code",
      "source": [
        "c.imprimirCola()"
      ],
      "metadata": {
        "colab": {
          "base_uri": "https://localhost:8080/"
        },
        "id": "8SvUvq8jzGMm",
        "outputId": "dbc6d88f-55f1-425e-fe5a-3436f5388860"
      },
      "execution_count": null,
      "outputs": [
        {
          "output_type": "stream",
          "name": "stdout",
          "text": [
            "El dato  1  es:  -1\n",
            "El dato  2  es:  0\n",
            "El dato  3  es:  3\n",
            "El dato  4  es:  100\n",
            "El dato  5  es:  5\n"
          ]
        }
      ]
    },
    {
      "cell_type": "code",
      "source": [
        "def encontrarMinimo(cola):\n",
        "  min=cola.cabecera.data\n",
        "  ini=cola.cabecera\n",
        "  while ini!=None:\n",
        "    if ini.data<=min:\n",
        "      min=ini.data\n",
        "    ini=ini.proximo\n",
        "  return(min)\n"
      ],
      "metadata": {
        "id": "6kjCkss_19-H"
      },
      "execution_count": null,
      "outputs": []
    },
    {
      "cell_type": "code",
      "source": [
        "x=encontrarMinimo(c)\n",
        "print(x)"
      ],
      "metadata": {
        "colab": {
          "base_uri": "https://localhost:8080/"
        },
        "id": "O4Eo93XV3Rzu",
        "outputId": "c9db27b2-c76a-45fd-ca33-ca865cfc1ab8"
      },
      "execution_count": null,
      "outputs": [
        {
          "output_type": "stream",
          "name": "stdout",
          "text": [
            "-1\n"
          ]
        }
      ]
    },
    {
      "cell_type": "code",
      "source": [
        "c.agregar(-80)\n",
        "x=encontrarMinimo(c)\n",
        "print(x)"
      ],
      "metadata": {
        "colab": {
          "base_uri": "https://localhost:8080/"
        },
        "id": "O7IdciSM3c-F",
        "outputId": "7d54bd89-0193-43aa-d84c-0728c0e61fb9"
      },
      "execution_count": null,
      "outputs": [
        {
          "output_type": "stream",
          "name": "stdout",
          "text": [
            "-80\n"
          ]
        }
      ]
    }
  ]
}