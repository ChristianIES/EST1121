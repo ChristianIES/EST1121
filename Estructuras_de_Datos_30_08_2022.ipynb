{
  "nbformat": 4,
  "nbformat_minor": 0,
  "metadata": {
    "colab": {
      "name": "Estructuras de Datos - 30-08-2022.ipynb",
      "provenance": [],
      "collapsed_sections": [],
      "authorship_tag": "ABX9TyNmqyUG87Rxqf28y8oPa87w",
      "include_colab_link": true
    },
    "kernelspec": {
      "name": "python3",
      "display_name": "Python 3"
    },
    "language_info": {
      "name": "python"
    }
  },
  "cells": [
    {
      "cell_type": "markdown",
      "metadata": {
        "id": "view-in-github",
        "colab_type": "text"
      },
      "source": [
        "<a href=\"https://colab.research.google.com/github/ChristianIES/EST1121/blob/main/Estructuras_de_Datos_30_08_2022.ipynb\" target=\"_parent\"><img src=\"https://colab.research.google.com/assets/colab-badge.svg\" alt=\"Open In Colab\"/></a>"
      ]
    },
    {
      "cell_type": "markdown",
      "source": [
        "### Generación de Números Aleatorios:"
      ],
      "metadata": {
        "id": "nwjHBP-rBUHv"
      }
    },
    {
      "cell_type": "code",
      "source": [
        "import random\n",
        "print(random.uniform(1/10,1))"
      ],
      "metadata": {
        "colab": {
          "base_uri": "https://localhost:8080/"
        },
        "id": "no3szhZZBXq0",
        "outputId": "58e0e17c-9410-49bd-acca-d6a80085b10b"
      },
      "execution_count": null,
      "outputs": [
        {
          "output_type": "stream",
          "name": "stdout",
          "text": [
            "0.7818823237370701\n"
          ]
        }
      ]
    },
    {
      "cell_type": "code",
      "source": [
        "factor=random.uniform(2/3,1)\n",
        "print(factor)\n"
      ],
      "metadata": {
        "colab": {
          "base_uri": "https://localhost:8080/"
        },
        "id": "5RtgXi2fBao_",
        "outputId": "30941204-f4c8-49c3-fa04-83446eeb7579"
      },
      "execution_count": null,
      "outputs": [
        {
          "output_type": "stream",
          "name": "stdout",
          "text": [
            "0.8459146951683718\n"
          ]
        }
      ]
    },
    {
      "cell_type": "markdown",
      "source": [
        "### Clase Nodo: implementación."
      ],
      "metadata": {
        "id": "QFNf-CtHAyEe"
      }
    },
    {
      "cell_type": "code",
      "execution_count": null,
      "metadata": {
        "id": "J5W2gcbRAtR6"
      },
      "outputs": [],
      "source": [
        "class Nodo:\n",
        "\n",
        "    def __init__(self,nombre=None, edad=None, sexo=None, nacionalidad=None, proximo=None):\n",
        "        self.name=nombre\n",
        "        self.age=edad\n",
        "        self.sex=sexo\n",
        "        self.nat=nacionalidad\n",
        "        self.next=proximo\n",
        "\n"
      ]
    },
    {
      "cell_type": "markdown",
      "source": [
        "### Uso de la clase:"
      ],
      "metadata": {
        "id": "f4mdCruABA4a"
      }
    },
    {
      "cell_type": "code",
      "source": [
        "#utilizando la clase:\n",
        "p0=Nodo()\n",
        "p1=Nodo(\"Amelia\",2.5,\"femenino\",\"chilena\",p0)\n",
        "p2=Nodo(\"Christian\",38,\"masculino\",\"chileno\",p1)\n",
        "\n",
        "print(p0.name)\n",
        "print(p1.name)\n",
        "print(p2.name)\n",
        "print(p2.next.name)\n"
      ],
      "metadata": {
        "colab": {
          "base_uri": "https://localhost:8080/"
        },
        "id": "GFWTTUaEA_g_",
        "outputId": "111e538d-aa95-499c-f2cb-29026f9dc0e8"
      },
      "execution_count": null,
      "outputs": [
        {
          "output_type": "stream",
          "name": "stdout",
          "text": [
            "None\n",
            "Amelia\n",
            "Christian\n",
            "Amelia\n"
          ]
        }
      ]
    },
    {
      "cell_type": "markdown",
      "source": [
        "### Lista Enlazada"
      ],
      "metadata": {
        "id": "_MKu1d6cBuvI"
      }
    },
    {
      "cell_type": "code",
      "source": [
        "class Nodo:\n",
        "    def __init__(self,nombre=None, edad=None, sexo=None, nacionalidad=None, proximo=None):\n",
        "        self.name=nombre\n",
        "        self.age=edad\n",
        "        self.sex=sexo\n",
        "        self.nat=nacionalidad\n",
        "        self.next=proximo\n"
      ],
      "metadata": {
        "id": "e8272OFIBx1l"
      },
      "execution_count": null,
      "outputs": []
    },
    {
      "cell_type": "code",
      "source": [
        "class listaEnlazada:\n",
        "    def __init__(self):                     #crear lista vacía (constructor)\n",
        "        self.cabecera = None\n",
        "\n",
        "    #para verificar si está vacía (método):\n",
        "    def esVacia(self):\n",
        "        if(self.cabecera==None):\n",
        "            return(True)\n",
        "        else:\n",
        "            return(False)\n",
        "\n",
        "    #para agregar un nodo por la cabecera:\n",
        "    def agregaFrente(self,no, e, s, na):\n",
        "        self.cabecera=Nodo(no,e,s,na,self.cabecera)\n",
        "\n",
        "    #para agregar un nodo por el final:\n",
        "    def agregaFinal(self, no, e, s, na):\n",
        "        if self.cabecera==None:\n",
        "            self.cabecera = Nodo(no,e,s,na,self.cabecera)\n",
        "        else:\n",
        "            ini = self.cabecera\n",
        "            while ini.next:\n",
        "                ini = ini.next\n",
        "            ini.next = Nodo(no,e,s,na,None)\n",
        "\n",
        "    #imprimiendo la lista de nodos\n",
        "    def despliegaLista(self):\n",
        "        ini = self.cabecera\n",
        "        while ini != None:\n",
        "            print(ini.name,\" \",ini.age,\" \",ini.sex,\" \",ini.nat,\" -> \")\n",
        "            ini = ini.next\n",
        "\n",
        "    #buscando informacion\n",
        "    def buscaNombre(self,dato):\n",
        "        print(\"Buscando nombre: \",dato)\n",
        "        ini = self.cabecera\n",
        "        while ini != None:\n",
        "            if(ini.name==dato):\n",
        "                print(ini.name,\" \",ini.age,\" \",ini.sex,\" \",ini.nat,\" ; \")\n",
        "            ini = ini.next\n",
        "\n"
      ],
      "metadata": {
        "id": "x8-MYAPRB1bs"
      },
      "execution_count": null,
      "outputs": []
    },
    {
      "cell_type": "markdown",
      "source": [
        "### Uso de la clase:"
      ],
      "metadata": {
        "id": "uxqhwy5sBmsk"
      }
    },
    {
      "cell_type": "code",
      "source": [
        "s = listaEnlazada()\n",
        "s.agregaFrente(\"Amelia\",3,\"femenino\",\"chilena\")\n",
        "s.agregaFinal(\"Christian\",39,\"masculino\",\"chileno\")\n",
        "s.despliegaLista()\n",
        "s.buscaNombre(\"Isidora\")"
      ],
      "metadata": {
        "colab": {
          "base_uri": "https://localhost:8080/"
        },
        "id": "3fNM9rOPB893",
        "outputId": "3113d7fe-dd59-4eac-a085-dc8b5e997ade"
      },
      "execution_count": null,
      "outputs": [
        {
          "output_type": "stream",
          "name": "stdout",
          "text": [
            "Amelia   3   femenino   chilena  -> \n",
            "Christian   39   masculino   chileno  -> \n",
            "Buscando nombre:  Isidora\n"
          ]
        }
      ]
    }
  ]
}