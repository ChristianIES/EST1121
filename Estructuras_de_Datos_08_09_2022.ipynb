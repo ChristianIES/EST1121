{
  "nbformat": 4,
  "nbformat_minor": 0,
  "metadata": {
    "colab": {
      "provenance": [],
      "collapsed_sections": [],
      "authorship_tag": "ABX9TyMJ9Tn7Opq2Q+gUbMqIdnO9",
      "include_colab_link": true
    },
    "kernelspec": {
      "name": "python3",
      "display_name": "Python 3"
    },
    "language_info": {
      "name": "python"
    }
  },
  "cells": [
    {
      "cell_type": "markdown",
      "metadata": {
        "id": "view-in-github",
        "colab_type": "text"
      },
      "source": [
        "<a href=\"https://colab.research.google.com/github/ChristianIES/EST1121/blob/main/Estructuras_de_Datos_08_09_2022.ipynb\" target=\"_parent\"><img src=\"https://colab.research.google.com/assets/colab-badge.svg\" alt=\"Open In Colab\"/></a>"
      ]
    },
    {
      "cell_type": "markdown",
      "source": [
        "* Ejercicio 1: clase Nodo\n"
      ],
      "metadata": {
        "id": "QFNf-CtHAyEe"
      }
    },
    {
      "cell_type": "code",
      "execution_count": null,
      "metadata": {
        "id": "J5W2gcbRAtR6"
      },
      "outputs": [],
      "source": [
        "class Nodo:\n",
        "\n",
        "    def __init__(self,ing=None, esp=None, numero=None,next=None):\n",
        "        self.id=numero\n",
        "        self.ingles=ing\n",
        "        self.castellano=esp\n",
        "        self.proximo=next\n"
      ]
    },
    {
      "cell_type": "markdown",
      "source": [
        "* Ejercicio 1: lista enlazada\n"
      ],
      "metadata": {
        "id": "_MKu1d6cBuvI"
      }
    },
    {
      "cell_type": "code",
      "source": [
        "class listaEnlazada:\n",
        "    def __init__(self):                     #crear lista vacía (constructor)\n",
        "        self.cabecera = None\n",
        "        self.items=0                        #contador de elementos (palabras) en la lista\n",
        "\n",
        "    #agregaremos por el final, para dar un sentido de orden (aunque el enunciado no lo pide! también es válido por la cabecera)\n",
        "    def agregar(self, i, e):\n",
        "        if self.cabecera==None:\n",
        "            self.items=self.items+1\n",
        "            self.cabecera = Nodo(i,e,self.items,None)\n",
        "        else:\n",
        "            ini = self.cabecera\n",
        "            while ini.proximo:\n",
        "                ini = ini.proximo\n",
        "            self.items=self.items+1\n",
        "            ini.proximo = Nodo(i,e,self.items,None)\n",
        "\n",
        "    #imprimiendo la lista de nodos\n",
        "    def imprimir(self):\n",
        "        ini = self.cabecera\n",
        "        while ini != None:\n",
        "            print(ini.id,\" \",ini.ingles,\" \",ini.castellano,\" -> \")\n",
        "            ini = ini.proximo\n",
        "    \n",
        "    #buscando el significado de una palabra\n",
        "    def buscar(self,dato):\n",
        "        print(\"Buscando palabra: \",dato)\n",
        "        ini = self.cabecera\n",
        "        while ini != None:\n",
        "            if(ini.castellano==dato):\n",
        "                print(ini.id,\" \",ini.ingles,\" \",ini.castellano)\n",
        "            ini = ini.proximo\n",
        "\n",
        "    #para devolver cuántas entradas tiene el diccionario:\n",
        "    def contar(self):\n",
        "        if(self.cabecera==None):\n",
        "            return(0)\n",
        "        else:\n",
        "            return(self.items)\n",
        "\n",
        "\n",
        "    \n",
        "\n",
        "    \n",
        "\n"
      ],
      "metadata": {
        "id": "x8-MYAPRB1bs"
      },
      "execution_count": null,
      "outputs": []
    },
    {
      "cell_type": "markdown",
      "source": [
        "* Prueba de uso de la clase:"
      ],
      "metadata": {
        "id": "uxqhwy5sBmsk"
      }
    },
    {
      "cell_type": "code",
      "source": [
        "s = listaEnlazada()\n",
        "s.agregar(\"house\", \"casa\")\n",
        "s.agregar(\"pineapple\", \"piña\")\n",
        "s.agregar(\"dog\",\"perro\")\n",
        "s.agregar(\"orchestra\",\"orquesta\")\n",
        "s.agregar(\"table\",\"mesa\")\n",
        "x=s.contar()\n",
        "print(\"La lista contiene: \",x, \" palabras.\")"
      ],
      "metadata": {
        "colab": {
          "base_uri": "https://localhost:8080/"
        },
        "id": "3fNM9rOPB893",
        "outputId": "0b71c9ee-d3ad-4377-f430-6d654b8d231d"
      },
      "execution_count": null,
      "outputs": [
        {
          "output_type": "stream",
          "name": "stdout",
          "text": [
            "La lista contiene:  5  palabras.\n"
          ]
        }
      ]
    },
    {
      "cell_type": "code",
      "source": [
        "s.imprimir()"
      ],
      "metadata": {
        "colab": {
          "base_uri": "https://localhost:8080/"
        },
        "id": "ltJlS1WpYqvn",
        "outputId": "2f128a0e-95d5-452f-d606-32bbcbf10ba7"
      },
      "execution_count": null,
      "outputs": [
        {
          "output_type": "stream",
          "name": "stdout",
          "text": [
            "1   house   casa  -> \n",
            "2   pineapple   piña  -> \n",
            "3   dog   perro  -> \n",
            "4   orchestra   orquesta  -> \n",
            "5   table   mesa  -> \n"
          ]
        }
      ]
    },
    {
      "cell_type": "code",
      "source": [
        "s.buscar(\"orquesta\")"
      ],
      "metadata": {
        "colab": {
          "base_uri": "https://localhost:8080/"
        },
        "id": "WEhcC7IPY7CI",
        "outputId": "cef859b7-35d8-48e5-f606-6ad5443a3f72"
      },
      "execution_count": null,
      "outputs": [
        {
          "output_type": "stream",
          "name": "stdout",
          "text": [
            "Buscando palabra:  orquesta\n",
            "4   orchestra   orquesta\n"
          ]
        }
      ]
    },
    {
      "cell_type": "markdown",
      "source": [
        "* Ejercicio 1: guía"
      ],
      "metadata": {
        "id": "hIzSdSBB2_jK"
      }
    },
    {
      "cell_type": "code",
      "source": [
        "import math"
      ],
      "metadata": {
        "id": "kc3iVInh2_Ni"
      },
      "execution_count": null,
      "outputs": []
    },
    {
      "cell_type": "code",
      "source": [
        "print(1/(5-2*math.sqrt(5)))"
      ],
      "metadata": {
        "colab": {
          "base_uri": "https://localhost:8080/"
        },
        "id": "HkbO5UCN3F86",
        "outputId": "e1e37320-cc61-4fdc-c276-92631db8baab"
      },
      "execution_count": null,
      "outputs": [
        {
          "output_type": "stream",
          "name": "stdout",
          "text": [
            "1.8944271909999166\n"
          ]
        }
      ]
    },
    {
      "cell_type": "code",
      "source": [
        "class Nodo:\n",
        "\n",
        "    def __init__(self,exponente=None,next=None):\n",
        "        self.t=exponente\n",
        "        self.dato=((3+math.sqrt(5))/8)**exponente\n",
        "        self.proximo=next"
      ],
      "metadata": {
        "id": "S0Ruwqp13ZFa"
      },
      "execution_count": null,
      "outputs": []
    },
    {
      "cell_type": "code",
      "source": [
        "class listaEnlazada:\n",
        "    def __init__(self):                     #crear lista vacía (constructor)\n",
        "        self.cabecera = None\n",
        "\n",
        "    def agregar(self, t):\n",
        "        if self.cabecera==None:\n",
        "            self.cabecera = Nodo(t,None)\n",
        "        else:\n",
        "            ini = self.cabecera\n",
        "            while ini.proximo:\n",
        "                ini = ini.proximo\n",
        "            ini.proximo = Nodo(t,None)\n",
        "\n",
        "    def sumar(self):\n",
        "        suma=0\n",
        "        ini = self.cabecera\n",
        "        while ini != None:\n",
        "            suma=suma+ini.dato\n",
        "            ini=ini.proximo\n",
        "        return(suma)"
      ],
      "metadata": {
        "id": "fwQSAcKY4ELp"
      },
      "execution_count": null,
      "outputs": []
    },
    {
      "cell_type": "markdown",
      "source": [
        "* Uso:"
      ],
      "metadata": {
        "id": "0IS49mik8gSO"
      }
    },
    {
      "cell_type": "code",
      "source": [
        "l=listaEnlazada()\n",
        "l.agregar(1)\n",
        "l.sumar()"
      ],
      "metadata": {
        "colab": {
          "base_uri": "https://localhost:8080/"
        },
        "id": "wjfjm6xM8ha_",
        "outputId": "36b04ffc-298c-467d-d0f8-8d793eafdfb1"
      },
      "execution_count": null,
      "outputs": [
        {
          "output_type": "execute_result",
          "data": {
            "text/plain": [
              "0.6545084971874737"
            ]
          },
          "metadata": {},
          "execution_count": 9
        }
      ]
    },
    {
      "cell_type": "code",
      "source": [
        "l.agregar(2)\n",
        "l.sumar()"
      ],
      "metadata": {
        "colab": {
          "base_uri": "https://localhost:8080/"
        },
        "id": "eYb4nBFV9bnF",
        "outputId": "6a4540ef-bb2a-4559-9b7f-ab16a1b3e0a0"
      },
      "execution_count": null,
      "outputs": [
        {
          "output_type": "execute_result",
          "data": {
            "text/plain": [
              "1.0828898700780791"
            ]
          },
          "metadata": {},
          "execution_count": 10
        }
      ]
    },
    {
      "cell_type": "code",
      "source": [
        "k=3\n",
        "while(k<=10000):\n",
        "  l.agregar(k)\n",
        "  k=k+1\n",
        "l.sumar()"
      ],
      "metadata": {
        "colab": {
          "base_uri": "https://localhost:8080/"
        },
        "id": "I7C5AWzV-GbN",
        "outputId": "4e92539e-eede-49d2-b6cc-197e9f4045e9"
      },
      "execution_count": null,
      "outputs": [
        {
          "output_type": "execute_result",
          "data": {
            "text/plain": [
              "1.8944271909999155"
            ]
          },
          "metadata": {},
          "execution_count": 11
        }
      ]
    }
  ]
}