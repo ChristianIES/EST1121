{
  "nbformat": 4,
  "nbformat_minor": 0,
  "metadata": {
    "colab": {
      "name": "Estructuras de Datos - 16-08-2022.ipynb",
      "provenance": [],
      "authorship_tag": "ABX9TyNVqV4Vp1+d8iyaFEUnOS29",
      "include_colab_link": true
    },
    "kernelspec": {
      "name": "python3",
      "display_name": "Python 3"
    },
    "language_info": {
      "name": "python"
    }
  },
  "cells": [
    {
      "cell_type": "markdown",
      "metadata": {
        "id": "view-in-github",
        "colab_type": "text"
      },
      "source": [
        "<a href=\"https://colab.research.google.com/github/ChristianIES/EST1121/blob/main/Estructuras_de_Datos_16_08_2022.ipynb\" target=\"_parent\"><img src=\"https://colab.research.google.com/assets/colab-badge.svg\" alt=\"Open In Colab\"/></a>"
      ]
    },
    {
      "cell_type": "markdown",
      "source": [
        "**Ejemplo clase anterior:** clase Estudiante"
      ],
      "metadata": {
        "id": "55q1WB48KstS"
      }
    },
    {
      "cell_type": "code",
      "execution_count": 1,
      "metadata": {
        "id": "rJgHjWRy0tTl"
      },
      "outputs": [],
      "source": [
        "class Estudiante:\n",
        "    def __init__(self, nombre, p1, p2, ex):\n",
        "        self.name=nombre\n",
        "        self.prueba1=p1\n",
        "        self.prueba2=p2\n",
        "        self.examen=ex\n",
        "\n",
        "    def promedioPruebas(self):\n",
        "        return((self.prueba1 + self.prueba2)/2)\n",
        "\n",
        "    def notaFinal(self):\n",
        "        catedra=self.promedioPruebas()\n",
        "        nota=0.67*catedra+0.33*self.examen\n",
        "        return nota"
      ]
    },
    {
      "cell_type": "code",
      "source": [
        "e1=Estudiante(\"Amelia\",5.7,5.9,6)\n",
        "print (e1.name)\n",
        "print (round(e1.promedioPruebas(),2))\n",
        "print (round(e1.notaFinal(),2))"
      ],
      "metadata": {
        "colab": {
          "base_uri": "https://localhost:8080/"
        },
        "id": "fwzkLBNB1TNq",
        "outputId": "334d1d9a-f809-49f5-ab21-613ec6e09aba"
      },
      "execution_count": 2,
      "outputs": [
        {
          "output_type": "stream",
          "name": "stdout",
          "text": [
            "Amelia\n",
            "5.8\n",
            "5.87\n"
          ]
        }
      ]
    },
    {
      "cell_type": "code",
      "source": [
        "e2=Estudiante(\"Christian\",5.2,6.3,5)\n",
        "print (e2.name)\n",
        "print (round(e2.promedioPruebas(),2))\n",
        "print (round(e2.notaFinal(),2))"
      ],
      "metadata": {
        "colab": {
          "base_uri": "https://localhost:8080/"
        },
        "id": "rUjDFoDe1XVn",
        "outputId": "1f06ef3e-ac80-4754-cb28-d17eef14efa8"
      },
      "execution_count": 3,
      "outputs": [
        {
          "output_type": "stream",
          "name": "stdout",
          "text": [
            "Christian\n",
            "5.75\n",
            "5.5\n"
          ]
        }
      ]
    },
    {
      "cell_type": "markdown",
      "source": [
        "**Ejercicio 2:** funcion mcd"
      ],
      "metadata": {
        "id": "b04YNIqiEqyq"
      }
    },
    {
      "cell_type": "code",
      "source": [
        "def mcd(n1,n2):\n",
        "  if(n1 <= n2):\n",
        "    min=n1\n",
        "  else:\n",
        "    min=n2\n",
        "  for i in range(1,min+1):\n",
        "    if((n1%i==0)and(n2%i==0)):\n",
        "      maximocomund=i\n",
        "  return maximocomund"
      ],
      "metadata": {
        "id": "6sHghGixEvlo"
      },
      "execution_count": 4,
      "outputs": []
    },
    {
      "cell_type": "code",
      "source": [
        "mcd(4,38)"
      ],
      "metadata": {
        "colab": {
          "base_uri": "https://localhost:8080/"
        },
        "id": "ADsTJui2FLtC",
        "outputId": "23fd9cf7-a9a5-4413-e6cd-bb313de73642"
      },
      "execution_count": 7,
      "outputs": [
        {
          "output_type": "execute_result",
          "data": {
            "text/plain": [
              "2"
            ]
          },
          "metadata": {},
          "execution_count": 7
        }
      ]
    }
  ]
}