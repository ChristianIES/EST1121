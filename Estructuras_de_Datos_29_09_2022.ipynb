{
  "nbformat": 4,
  "nbformat_minor": 0,
  "metadata": {
    "colab": {
      "provenance": [],
      "collapsed_sections": [],
      "authorship_tag": "ABX9TyNJV1asozqnj5aFvYDxLSRd",
      "include_colab_link": true
    },
    "kernelspec": {
      "name": "python3",
      "display_name": "Python 3"
    },
    "language_info": {
      "name": "python"
    }
  },
  "cells": [
    {
      "cell_type": "markdown",
      "metadata": {
        "id": "view-in-github",
        "colab_type": "text"
      },
      "source": [
        "<a href=\"https://colab.research.google.com/github/ChristianIES/EST1121/blob/main/Estructuras_de_Datos_29_09_2022.ipynb\" target=\"_parent\"><img src=\"https://colab.research.google.com/assets/colab-badge.svg\" alt=\"Open In Colab\"/></a>"
      ]
    },
    {
      "cell_type": "markdown",
      "source": [
        "* Clase Cola:"
      ],
      "metadata": {
        "id": "NaRd0RoruGNw"
      }
    },
    {
      "cell_type": "code",
      "source": [
        "class Nodo:\n",
        "  def __init__(self, n, a, e):\n",
        "    self.nombre=n\n",
        "    self.apellido=a\n",
        "    self.edad=e\n",
        "    self.proximo=None"
      ],
      "metadata": {
        "id": "2oiAGUgBuIXE"
      },
      "execution_count": null,
      "outputs": []
    },
    {
      "cell_type": "code",
      "source": [
        "class Cola:\n",
        "  def __init__(self):\n",
        "    self.cabecera=None\n",
        "    self.personasatendidas=0\n",
        "    self.sumaedad=0\n",
        "    self.personasencola=0\n",
        "  \n",
        "  def agregar(self, n, a, e):\n",
        "    nodo1=Nodo(n, a, e)\n",
        "    if self.personasencola==0:\n",
        "      nodo1.proximo=None\n",
        "      self.cabecera=nodo1\n",
        "      self.personasencola=1\n",
        "    else:\n",
        "      ini=self.cabecera\n",
        "      while ini.proximo!=None:\n",
        "        ini=ini.proximo\n",
        "      nodo1.proximo=None\n",
        "      ini.proximo=nodo1\n",
        "      self.personasencola=self.personasencola+1\n",
        "\n",
        "  def imprimirCola(self):\n",
        "    if self.personasencola==0:\n",
        "      print(\"Cola vacia\")\n",
        "    else:\n",
        "      ini=self.cabecera\n",
        "      k=1\n",
        "      while ini!=None:\n",
        "        print(\"El dato \", k,  \" es: \",ini.nombre, \" \", ini.apellido, \"de edad: \",ini.edad)\n",
        "        k=k+1\n",
        "        ini=ini.proximo     \n",
        "  \n",
        "  def atender(self):\n",
        "    if self.personasencola==0:\n",
        "      print(\"Cola vacia\")\n",
        "    else:\n",
        "      self.personasencola=self.personasencola-1\n",
        "      self.personasatendidas=self.personasatendidas+1\n",
        "      self.sumaedad=self.sumaedad+self.cabecera.edad\n",
        "      print(\"Se ha atendido a: \", self.cabecera.nombre)\n",
        "      print(\"El promedio actualizado es (años): \", self.sumaedad/self.personasatendidas)\n",
        "      self.cabecera=self.cabecera.proximo"
      ],
      "metadata": {
        "id": "Q1n2vJJcueGR"
      },
      "execution_count": null,
      "outputs": []
    },
    {
      "cell_type": "code",
      "source": [
        "c=Cola()\n",
        "c.agregar(\"Christian\", \"Araya\", 39)\n",
        "c.agregar(\"Isidora\", \"González\", 18)\n",
        "c.agregar(\"Valentina\", \"Garcés\", 19)\n",
        "c.agregar(\"Amelia\", \"Araya\", 4)\n",
        "c.imprimirCola()"
      ],
      "metadata": {
        "colab": {
          "base_uri": "https://localhost:8080/"
        },
        "id": "wwvDEgLMh9KN",
        "outputId": "77ba0b4d-ee7f-4974-b995-1f1aad4bf363"
      },
      "execution_count": null,
      "outputs": [
        {
          "output_type": "stream",
          "name": "stdout",
          "text": [
            "El dato  1  es:  Christian   Araya de edad:  39\n",
            "El dato  2  es:  Isidora   González de edad:  18\n",
            "El dato  3  es:  Valentina   Garcés de edad:  19\n",
            "El dato  4  es:  Amelia   Araya de edad:  4\n"
          ]
        }
      ]
    },
    {
      "cell_type": "code",
      "source": [
        "c.atender()\n",
        "c.atender()\n",
        "c.atender()"
      ],
      "metadata": {
        "colab": {
          "base_uri": "https://localhost:8080/"
        },
        "id": "o0ENhQFPiZEU",
        "outputId": "a43ef275-eed4-4717-fbf3-8bd4d77a46ed"
      },
      "execution_count": null,
      "outputs": [
        {
          "output_type": "stream",
          "name": "stdout",
          "text": [
            "Se ha atendido a:  Christian\n",
            "El promedio actualizado es (años):  39.0\n",
            "Se ha atendido a:  Isidora\n",
            "El promedio actualizado es (años):  28.5\n",
            "Se ha atendido a:  Valentina\n",
            "El promedio actualizado es (años):  25.333333333333332\n"
          ]
        }
      ]
    },
    {
      "cell_type": "code",
      "source": [
        "c.imprimirCola()"
      ],
      "metadata": {
        "colab": {
          "base_uri": "https://localhost:8080/"
        },
        "id": "KpXzlgBUiplU",
        "outputId": "a4e9f86b-fad3-43a5-99d2-3252b23465d2"
      },
      "execution_count": null,
      "outputs": [
        {
          "output_type": "stream",
          "name": "stdout",
          "text": [
            "El dato  1  es:  Amelia   Araya de edad:  4\n"
          ]
        }
      ]
    },
    {
      "cell_type": "code",
      "source": [
        "c.atender()\n",
        "c.atender()"
      ],
      "metadata": {
        "colab": {
          "base_uri": "https://localhost:8080/"
        },
        "id": "rJRcoXw1lJLZ",
        "outputId": "5d7ce8de-2737-4e66-bbde-85322f5100a7"
      },
      "execution_count": null,
      "outputs": [
        {
          "output_type": "stream",
          "name": "stdout",
          "text": [
            "Se ha atendido a:  Amelia\n",
            "El promedio actualizado es (años):  20.0\n",
            "Cola vacia\n"
          ]
        }
      ]
    }
  ]
}