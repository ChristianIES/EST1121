{
  "nbformat": 4,
  "nbformat_minor": 0,
  "metadata": {
    "colab": {
      "provenance": [],
      "collapsed_sections": [],
      "authorship_tag": "ABX9TyO1UVOqaiQr9jM6tVlRQBHU",
      "include_colab_link": true
    },
    "kernelspec": {
      "name": "python3",
      "display_name": "Python 3"
    },
    "language_info": {
      "name": "python"
    }
  },
  "cells": [
    {
      "cell_type": "markdown",
      "metadata": {
        "id": "view-in-github",
        "colab_type": "text"
      },
      "source": [
        "<a href=\"https://colab.research.google.com/github/ChristianIES/EST1121/blob/main/Estructuras_de_Datos_05_10_2022.ipynb\" target=\"_parent\"><img src=\"https://colab.research.google.com/assets/colab-badge.svg\" alt=\"Open In Colab\"/></a>"
      ]
    },
    {
      "cell_type": "markdown",
      "source": [
        "* Listas:"
      ],
      "metadata": {
        "id": "yt0u8m6YgLOn"
      }
    },
    {
      "cell_type": "code",
      "source": [
        "lista=[\"Christian\",\"Isidora\",\"Constanza\",\"Sebastian\",\"Matias\",\"Eduardo\",\"Felipe\",\"Sebastian\"]\n"
      ],
      "metadata": {
        "id": "L3Rauyn9gYo-"
      },
      "execution_count": null,
      "outputs": []
    },
    {
      "cell_type": "code",
      "source": [
        "lista.count(\"Sebastian\")"
      ],
      "metadata": {
        "colab": {
          "base_uri": "https://localhost:8080/"
        },
        "id": "PTGMxMTlguUd",
        "outputId": "a858547b-f487-4a6e-8476-c6b65b5448d0"
      },
      "execution_count": null,
      "outputs": [
        {
          "output_type": "execute_result",
          "data": {
            "text/plain": [
              "2"
            ]
          },
          "metadata": {},
          "execution_count": 3
        }
      ]
    },
    {
      "cell_type": "code",
      "source": [
        "lista.index(\"Isidora\")"
      ],
      "metadata": {
        "colab": {
          "base_uri": "https://localhost:8080/"
        },
        "id": "87LrcZw4hCPN",
        "outputId": "615fb51e-c9f9-4508-930e-1fca8a68f8a2"
      },
      "execution_count": null,
      "outputs": [
        {
          "output_type": "execute_result",
          "data": {
            "text/plain": [
              "1"
            ]
          },
          "metadata": {},
          "execution_count": 4
        }
      ]
    },
    {
      "cell_type": "code",
      "source": [
        "lista.index(\"Sebastian\")"
      ],
      "metadata": {
        "colab": {
          "base_uri": "https://localhost:8080/"
        },
        "id": "M_5stE_ZhQm2",
        "outputId": "4aff6384-403b-4aa7-99ce-91754d822a9d"
      },
      "execution_count": null,
      "outputs": [
        {
          "output_type": "execute_result",
          "data": {
            "text/plain": [
              "3"
            ]
          },
          "metadata": {},
          "execution_count": 5
        }
      ]
    },
    {
      "cell_type": "code",
      "source": [
        "lista.index(\"Sebastian\",4)"
      ],
      "metadata": {
        "colab": {
          "base_uri": "https://localhost:8080/"
        },
        "id": "hgakSQsKhcxV",
        "outputId": "314d5c5b-0c9f-465a-94e6-3fdb44c9496f"
      },
      "execution_count": null,
      "outputs": [
        {
          "output_type": "execute_result",
          "data": {
            "text/plain": [
              "7"
            ]
          },
          "metadata": {},
          "execution_count": 6
        }
      ]
    },
    {
      "cell_type": "code",
      "source": [
        "lista"
      ],
      "metadata": {
        "colab": {
          "base_uri": "https://localhost:8080/"
        },
        "id": "1usj9cZuhj4u",
        "outputId": "2a8c02ae-c481-4cbe-cafa-5d21b9b9c091"
      },
      "execution_count": null,
      "outputs": [
        {
          "output_type": "execute_result",
          "data": {
            "text/plain": [
              "['Sebastian',\n",
              " 'Felipe',\n",
              " 'Eduardo',\n",
              " 'Matias',\n",
              " 'Sebastian',\n",
              " 'Constanza',\n",
              " 'Isidora',\n",
              " 'Christian']"
            ]
          },
          "metadata": {},
          "execution_count": 11
        }
      ]
    },
    {
      "cell_type": "code",
      "source": [
        "lista.reverse()\n",
        "lista"
      ],
      "metadata": {
        "colab": {
          "base_uri": "https://localhost:8080/"
        },
        "id": "nFNfWspDhyhV",
        "outputId": "6673c8e1-ff55-443d-aa78-7469ae252787"
      },
      "execution_count": null,
      "outputs": [
        {
          "output_type": "execute_result",
          "data": {
            "text/plain": [
              "['Christian',\n",
              " 'Isidora',\n",
              " 'Constanza',\n",
              " 'Sebastian',\n",
              " 'Matias',\n",
              " 'Eduardo',\n",
              " 'Felipe',\n",
              " 'Sebastian']"
            ]
          },
          "metadata": {},
          "execution_count": 14
        }
      ]
    },
    {
      "cell_type": "code",
      "source": [
        "lista[0]=\"Fernando\"\n",
        "lista"
      ],
      "metadata": {
        "colab": {
          "base_uri": "https://localhost:8080/"
        },
        "id": "w76uek5XiMRl",
        "outputId": "24628353-94ac-4d30-e94d-f4ac90f93b20"
      },
      "execution_count": null,
      "outputs": [
        {
          "output_type": "execute_result",
          "data": {
            "text/plain": [
              "['Fernando',\n",
              " 'Isidora',\n",
              " 'Constanza',\n",
              " 'Sebastian',\n",
              " 'Matias',\n",
              " 'Eduardo',\n",
              " 'Felipe',\n",
              " 'Sebastian']"
            ]
          },
          "metadata": {},
          "execution_count": 16
        }
      ]
    },
    {
      "cell_type": "code",
      "source": [
        "lista.append(\"Christian\")\n",
        "lista"
      ],
      "metadata": {
        "colab": {
          "base_uri": "https://localhost:8080/"
        },
        "id": "yB3HTNwXieP1",
        "outputId": "a5ab45d9-a5c9-4491-de8a-6f230e6ad443"
      },
      "execution_count": null,
      "outputs": [
        {
          "output_type": "execute_result",
          "data": {
            "text/plain": [
              "['Fernando',\n",
              " 'Isidora',\n",
              " 'Constanza',\n",
              " 'Sebastian',\n",
              " 'Matias',\n",
              " 'Eduardo',\n",
              " 'Felipe',\n",
              " 'Sebastian',\n",
              " 'Christian',\n",
              " 'Christian']"
            ]
          },
          "metadata": {},
          "execution_count": 18
        }
      ]
    },
    {
      "cell_type": "code",
      "source": [
        "lista.pop()"
      ],
      "metadata": {
        "colab": {
          "base_uri": "https://localhost:8080/",
          "height": 36
        },
        "id": "UazkA1wCitGM",
        "outputId": "8b316b20-fb9f-470b-88c5-0401364c5adf"
      },
      "execution_count": null,
      "outputs": [
        {
          "output_type": "execute_result",
          "data": {
            "text/plain": [
              "'Christian'"
            ],
            "application/vnd.google.colaboratory.intrinsic+json": {
              "type": "string"
            }
          },
          "metadata": {},
          "execution_count": 19
        }
      ]
    },
    {
      "cell_type": "code",
      "source": [
        "lista"
      ],
      "metadata": {
        "colab": {
          "base_uri": "https://localhost:8080/"
        },
        "id": "vLE7vdpmivws",
        "outputId": "238ffba4-8292-41d9-a78d-d51a2b1f7727"
      },
      "execution_count": null,
      "outputs": [
        {
          "output_type": "execute_result",
          "data": {
            "text/plain": [
              "['Fernando',\n",
              " 'Isidora',\n",
              " 'Constanza',\n",
              " 'Sebastian',\n",
              " 'Matias',\n",
              " 'Eduardo',\n",
              " 'Felipe',\n",
              " 'Sebastian',\n",
              " 'Christian']"
            ]
          },
          "metadata": {},
          "execution_count": 20
        }
      ]
    },
    {
      "cell_type": "code",
      "source": [
        "lista.sort()"
      ],
      "metadata": {
        "id": "US6Ouo9vjArk"
      },
      "execution_count": null,
      "outputs": []
    },
    {
      "cell_type": "code",
      "source": [
        "lista"
      ],
      "metadata": {
        "colab": {
          "base_uri": "https://localhost:8080/"
        },
        "id": "68EW9GyGjc_7",
        "outputId": "7417f63a-b8b1-422b-aca2-748144f97770"
      },
      "execution_count": null,
      "outputs": [
        {
          "output_type": "execute_result",
          "data": {
            "text/plain": [
              "['Christian',\n",
              " 'Constanza',\n",
              " 'Eduardo',\n",
              " 'Felipe',\n",
              " 'Fernando',\n",
              " 'Isidora',\n",
              " 'Matias',\n",
              " 'Sebastian',\n",
              " 'Sebastian']"
            ]
          },
          "metadata": {},
          "execution_count": 23
        }
      ]
    },
    {
      "cell_type": "code",
      "source": [
        "lista.remove(\"Fernando\")\n",
        "lista"
      ],
      "metadata": {
        "colab": {
          "base_uri": "https://localhost:8080/"
        },
        "id": "-6ZgWh0KjsOj",
        "outputId": "3586760f-6084-4518-f623-99e15562181e"
      },
      "execution_count": null,
      "outputs": [
        {
          "output_type": "execute_result",
          "data": {
            "text/plain": [
              "['Christian',\n",
              " 'Constanza',\n",
              " 'Eduardo',\n",
              " 'Felipe',\n",
              " 'Isidora',\n",
              " 'Matias',\n",
              " 'Sebastian',\n",
              " 'Sebastian']"
            ]
          },
          "metadata": {},
          "execution_count": 24
        }
      ]
    },
    {
      "cell_type": "code",
      "source": [
        "lista.insert(4,\"Fernando\")\n",
        "lista"
      ],
      "metadata": {
        "colab": {
          "base_uri": "https://localhost:8080/"
        },
        "id": "l-JJvowCj6M7",
        "outputId": "d05971d6-6718-4b74-83ea-de881b3738be"
      },
      "execution_count": null,
      "outputs": [
        {
          "output_type": "execute_result",
          "data": {
            "text/plain": [
              "['Christian',\n",
              " 'Constanza',\n",
              " 'Eduardo',\n",
              " 'Felipe',\n",
              " 'Fernando',\n",
              " 'Isidora',\n",
              " 'Matias',\n",
              " 'Sebastian',\n",
              " 'Sebastian']"
            ]
          },
          "metadata": {},
          "execution_count": 25
        }
      ]
    },
    {
      "cell_type": "code",
      "source": [
        "lista[2:]"
      ],
      "metadata": {
        "colab": {
          "base_uri": "https://localhost:8080/"
        },
        "id": "-20LjGBYkRhz",
        "outputId": "212ec888-2a13-4d97-c152-94968dc8e431"
      },
      "execution_count": null,
      "outputs": [
        {
          "output_type": "execute_result",
          "data": {
            "text/plain": [
              "['Eduardo',\n",
              " 'Felipe',\n",
              " 'Fernando',\n",
              " 'Isidora',\n",
              " 'Matias',\n",
              " 'Sebastian',\n",
              " 'Sebastian']"
            ]
          },
          "metadata": {},
          "execution_count": 28
        }
      ]
    },
    {
      "cell_type": "code",
      "source": [
        "lista[:-2]"
      ],
      "metadata": {
        "colab": {
          "base_uri": "https://localhost:8080/"
        },
        "id": "R1PK-bkDkU9U",
        "outputId": "6d530c74-09ab-413b-bba1-0dd3c5e96803"
      },
      "execution_count": null,
      "outputs": [
        {
          "output_type": "execute_result",
          "data": {
            "text/plain": [
              "['Christian',\n",
              " 'Constanza',\n",
              " 'Eduardo',\n",
              " 'Felipe',\n",
              " 'Fernando',\n",
              " 'Isidora',\n",
              " 'Matias']"
            ]
          },
          "metadata": {},
          "execution_count": 29
        }
      ]
    },
    {
      "cell_type": "markdown",
      "source": [
        "* Colas:"
      ],
      "metadata": {
        "id": "7M0CBl3AksRC"
      }
    },
    {
      "cell_type": "code",
      "source": [
        "from collections import deque"
      ],
      "metadata": {
        "id": "1O5_41VQkp6b"
      },
      "execution_count": null,
      "outputs": []
    },
    {
      "cell_type": "code",
      "source": [
        "cola=deque([\"Matias\",\"Sebastian\",\"Eduardo\",\"Isidora\"])\n",
        "cola"
      ],
      "metadata": {
        "colab": {
          "base_uri": "https://localhost:8080/"
        },
        "id": "Qg9WfqQnkzDK",
        "outputId": "a2ebaa46-d340-421e-ec84-d199dd384d71"
      },
      "execution_count": null,
      "outputs": [
        {
          "output_type": "execute_result",
          "data": {
            "text/plain": [
              "deque(['Matias', 'Sebastian', 'Eduardo', 'Isidora'])"
            ]
          },
          "metadata": {},
          "execution_count": 33
        }
      ]
    },
    {
      "cell_type": "code",
      "source": [
        "cola.append(\"Fernando\")\n",
        "cola"
      ],
      "metadata": {
        "colab": {
          "base_uri": "https://localhost:8080/"
        },
        "id": "B7FXDXSQk_J5",
        "outputId": "7b3512e4-210a-43d2-f01b-33bde9c94170"
      },
      "execution_count": null,
      "outputs": [
        {
          "output_type": "execute_result",
          "data": {
            "text/plain": [
              "deque(['Matias', 'Sebastian', 'Eduardo', 'Isidora', 'Fernando'])"
            ]
          },
          "metadata": {},
          "execution_count": 34
        }
      ]
    },
    {
      "cell_type": "code",
      "source": [
        "cola.popleft()\n",
        "cola"
      ],
      "metadata": {
        "colab": {
          "base_uri": "https://localhost:8080/"
        },
        "id": "ht-VJJWhlE1z",
        "outputId": "b006ac5d-da0b-4968-8259-4d2399150fd9"
      },
      "execution_count": null,
      "outputs": [
        {
          "output_type": "execute_result",
          "data": {
            "text/plain": [
              "deque(['Sebastian', 'Eduardo', 'Isidora', 'Fernando'])"
            ]
          },
          "metadata": {},
          "execution_count": 35
        }
      ]
    },
    {
      "cell_type": "markdown",
      "source": [
        "* Factorial recursivo:"
      ],
      "metadata": {
        "id": "ivXJ3gWOyDZV"
      }
    },
    {
      "cell_type": "code",
      "source": [
        "def factorial3(n):\n",
        "  f=0\n",
        "  if(n==0): #caso base 1\n",
        "    f=1\n",
        "    return(f)\n",
        "  elif(n==1): #caso base 2\n",
        "    f=1\n",
        "    return(f)\n",
        "  else:\n",
        "    return(n*factorial3(n-1))\n",
        "\n"
      ],
      "metadata": {
        "id": "VW8Fon5QyQYT"
      },
      "execution_count": null,
      "outputs": []
    },
    {
      "cell_type": "code",
      "source": [
        "factorial3(7)"
      ],
      "metadata": {
        "colab": {
          "base_uri": "https://localhost:8080/"
        },
        "id": "aoGAKCnbz8Sq",
        "outputId": "a8b0874b-151b-49c7-9c7c-07e439872c23"
      },
      "execution_count": null,
      "outputs": [
        {
          "output_type": "execute_result",
          "data": {
            "text/plain": [
              "5040"
            ]
          },
          "metadata": {},
          "execution_count": 3
        }
      ]
    },
    {
      "cell_type": "code",
      "source": [
        "import time"
      ],
      "metadata": {
        "id": "6yKjqAy30kZ4"
      },
      "execution_count": null,
      "outputs": []
    },
    {
      "cell_type": "code",
      "source": [
        "inicio=time.time()\n",
        "t=factorial3(959)\n",
        "fin=time.time()\n",
        "print(fin-inicio)"
      ],
      "metadata": {
        "colab": {
          "base_uri": "https://localhost:8080/"
        },
        "id": "h5qctSTa0o9g",
        "outputId": "0877d82b-f68a-48b2-e826-7beb3e5408d0"
      },
      "execution_count": null,
      "outputs": [
        {
          "output_type": "stream",
          "name": "stdout",
          "text": [
            "0.0007383823394775391\n"
          ]
        }
      ]
    },
    {
      "cell_type": "markdown",
      "source": [
        "* Lista de doble enlace:"
      ],
      "metadata": {
        "id": "hPrXkbeW38Lb"
      }
    },
    {
      "cell_type": "code",
      "source": [
        "class Nodo():\n",
        "  def __init__(self,dato):\n",
        "    self.anterior=None\n",
        "    self.siguiente=None\n",
        "    self.data=dato"
      ],
      "metadata": {
        "id": "1ORiX2Fd3_GD"
      },
      "execution_count": null,
      "outputs": []
    },
    {
      "cell_type": "code",
      "source": [
        "class ListaDobleEnlace():\n",
        "  def __init__(self):\n",
        "    self.items=0\n",
        "    self.inicio=None\n",
        "    self.fin=None\n",
        "  \n",
        "  def InsertarInicio(self,n):\n",
        "    nodo1=Nodo(n)\n",
        "    nodo1.anterior=None\n",
        "    nodo1.siguiente=None\n",
        "    if (self.items==0):\n",
        "      self.inicio=nodo1\n",
        "      self.fin=nodo1\n",
        "      self.items+=1\n",
        "    else:\n",
        "      nodo1.siguiente=self.inicio\n",
        "      self.inicio.anterior=nodo1\n",
        "      self.inicio=nodo1\n",
        "      self.items+=1\n",
        "      \n"
      ],
      "metadata": {
        "id": "x7iwyH1p4VFq"
      },
      "execution_count": null,
      "outputs": []
    },
    {
      "cell_type": "markdown",
      "source": [
        "* Clase Cola:"
      ],
      "metadata": {
        "id": "NaRd0RoruGNw"
      }
    },
    {
      "cell_type": "code",
      "source": [
        "class Nodo:\n",
        "  def __init__(self, n, a, e):\n",
        "    self.nombre=n\n",
        "    self.apellido=a\n",
        "    self.edad=e\n",
        "    self.proximo=None"
      ],
      "metadata": {
        "id": "2oiAGUgBuIXE"
      },
      "execution_count": null,
      "outputs": []
    },
    {
      "cell_type": "code",
      "source": [
        "class Cola:\n",
        "  def __init__(self):\n",
        "    self.cabecera=None\n",
        "    self.personasatendidas=0\n",
        "    self.sumaedad=0\n",
        "    self.personasencola=0\n",
        "  \n",
        "  def agregar(self, n, a, e):\n",
        "    nodo1=Nodo(n, a, e)\n",
        "    if self.personasencola==0:\n",
        "      nodo1.proximo=None\n",
        "      self.cabecera=nodo1\n",
        "      self.personasencola=1\n",
        "    else:\n",
        "      ini=self.cabecera\n",
        "      while ini.proximo!=None:\n",
        "        ini=ini.proximo\n",
        "      nodo1.proximo=None\n",
        "      ini.proximo=nodo1\n",
        "      self.personasencola=self.personasencola+1\n",
        "\n",
        "  def imprimirCola(self):\n",
        "    if self.personasencola==0:\n",
        "      print(\"Cola vacia\")\n",
        "    else:\n",
        "      ini=self.cabecera\n",
        "      k=1\n",
        "      while ini!=None:\n",
        "        print(\"El dato \", k,  \" es: \",ini.nombre, \" \", ini.apellido, \"de edad: \",ini.edad)\n",
        "        k=k+1\n",
        "        ini=ini.proximo     \n",
        "  \n",
        "  def atender(self):\n",
        "    if self.personasencola==0:\n",
        "      print(\"Cola vacia\")\n",
        "    else:\n",
        "      self.personasencola=self.personasencola-1\n",
        "      self.personasatendidas=self.personasatendidas+1\n",
        "      self.sumaedad=self.sumaedad+self.cabecera.edad\n",
        "      print(\"Se ha atendido a: \", self.cabecera.nombre)\n",
        "      print(\"El promedio actualizado es (años): \", self.sumaedad/self.personasatendidas)\n",
        "      self.cabecera=self.cabecera.proximo"
      ],
      "metadata": {
        "id": "Q1n2vJJcueGR"
      },
      "execution_count": null,
      "outputs": []
    },
    {
      "cell_type": "code",
      "source": [
        "c=Cola()\n",
        "c.agregar(\"Christian\", \"Araya\", 39)\n",
        "c.agregar(\"Isidora\", \"González\", 18)\n",
        "c.agregar(\"Valentina\", \"Garcés\", 19)\n",
        "c.agregar(\"Amelia\", \"Araya\", 4)\n",
        "c.imprimirCola()"
      ],
      "metadata": {
        "colab": {
          "base_uri": "https://localhost:8080/"
        },
        "id": "wwvDEgLMh9KN",
        "outputId": "77ba0b4d-ee7f-4974-b995-1f1aad4bf363"
      },
      "execution_count": null,
      "outputs": [
        {
          "output_type": "stream",
          "name": "stdout",
          "text": [
            "El dato  1  es:  Christian   Araya de edad:  39\n",
            "El dato  2  es:  Isidora   González de edad:  18\n",
            "El dato  3  es:  Valentina   Garcés de edad:  19\n",
            "El dato  4  es:  Amelia   Araya de edad:  4\n"
          ]
        }
      ]
    },
    {
      "cell_type": "code",
      "source": [
        "c.atender()\n",
        "c.atender()\n",
        "c.atender()"
      ],
      "metadata": {
        "colab": {
          "base_uri": "https://localhost:8080/"
        },
        "id": "o0ENhQFPiZEU",
        "outputId": "a43ef275-eed4-4717-fbf3-8bd4d77a46ed"
      },
      "execution_count": null,
      "outputs": [
        {
          "output_type": "stream",
          "name": "stdout",
          "text": [
            "Se ha atendido a:  Christian\n",
            "El promedio actualizado es (años):  39.0\n",
            "Se ha atendido a:  Isidora\n",
            "El promedio actualizado es (años):  28.5\n",
            "Se ha atendido a:  Valentina\n",
            "El promedio actualizado es (años):  25.333333333333332\n"
          ]
        }
      ]
    },
    {
      "cell_type": "code",
      "source": [
        "c.imprimirCola()"
      ],
      "metadata": {
        "colab": {
          "base_uri": "https://localhost:8080/"
        },
        "id": "KpXzlgBUiplU",
        "outputId": "a4e9f86b-fad3-43a5-99d2-3252b23465d2"
      },
      "execution_count": null,
      "outputs": [
        {
          "output_type": "stream",
          "name": "stdout",
          "text": [
            "El dato  1  es:  Amelia   Araya de edad:  4\n"
          ]
        }
      ]
    },
    {
      "cell_type": "code",
      "source": [
        "c.atender()\n",
        "c.atender()"
      ],
      "metadata": {
        "colab": {
          "base_uri": "https://localhost:8080/"
        },
        "id": "rJRcoXw1lJLZ",
        "outputId": "5d7ce8de-2737-4e66-bbde-85322f5100a7"
      },
      "execution_count": null,
      "outputs": [
        {
          "output_type": "stream",
          "name": "stdout",
          "text": [
            "Se ha atendido a:  Amelia\n",
            "El promedio actualizado es (años):  20.0\n",
            "Cola vacia\n"
          ]
        }
      ]
    }
  ]
}