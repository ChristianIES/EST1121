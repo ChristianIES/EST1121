{
  "nbformat": 4,
  "nbformat_minor": 0,
  "metadata": {
    "colab": {
      "provenance": [],
      "authorship_tag": "ABX9TyNfQLp6+sxtH8C00XDil60P",
      "include_colab_link": true
    },
    "kernelspec": {
      "name": "python3",
      "display_name": "Python 3"
    },
    "language_info": {
      "name": "python"
    }
  },
  "cells": [
    {
      "cell_type": "markdown",
      "metadata": {
        "id": "view-in-github",
        "colab_type": "text"
      },
      "source": [
        "<a href=\"https://colab.research.google.com/github/ChristianIES/EST1121/blob/main/Estructuras_de_Datos_17_11_2022.ipynb\" target=\"_parent\"><img src=\"https://colab.research.google.com/assets/colab-badge.svg\" alt=\"Open In Colab\"/></a>"
      ]
    },
    {
      "cell_type": "code",
      "execution_count": 1,
      "metadata": {
        "colab": {
          "base_uri": "https://localhost:8080/"
        },
        "id": "rDlyZ8tWZ-Gr",
        "outputId": "503a5cd5-0bcb-40ec-8ee1-2e1b6f3a47f6"
      },
      "outputs": [
        {
          "output_type": "execute_result",
          "data": {
            "text/plain": [
              "{'llave1': 1, 'llave2': 2, 'llave3': 10}"
            ]
          },
          "metadata": {},
          "execution_count": 1
        }
      ],
      "source": [
        "#Diccionarios: no tienen orden, pero se caracterizan por una clave\n",
        "dic={\"llave1\" : 1, \"llave2\" : 2, \"llave3\":10}\n",
        "dic"
      ]
    },
    {
      "cell_type": "code",
      "source": [
        "#otra forma:\n",
        "dic2={}\n",
        "dic2[\"llave3\"]=35\n",
        "dic2[\"llave4\"]=-10\n",
        "dic2"
      ],
      "metadata": {
        "colab": {
          "base_uri": "https://localhost:8080/"
        },
        "id": "bxFtsvGO9Y8o",
        "outputId": "4c08edb5-5bd5-4621-f286-a1216d6b0c37"
      },
      "execution_count": 3,
      "outputs": [
        {
          "output_type": "execute_result",
          "data": {
            "text/plain": [
              "{'llave3': 35, 'llave4': -10}"
            ]
          },
          "metadata": {},
          "execution_count": 3
        }
      ]
    },
    {
      "cell_type": "markdown",
      "source": [
        "* Ejemplo:"
      ],
      "metadata": {
        "id": "er-4GKMF-K88"
      }
    },
    {
      "cell_type": "code",
      "source": [
        "diccionarioHP={\"Harry Potter\": \"Gryffindor\",\"Hermione Granger\": \"Gryffindor\", \"Luna Lovegood\":\"Ravenclaw\"}\n",
        "diccionarioHP"
      ],
      "metadata": {
        "colab": {
          "base_uri": "https://localhost:8080/"
        },
        "id": "zX_EkCzEaEPd",
        "outputId": "f5109ca3-c9ea-4431-e533-bbeb1990b6cd"
      },
      "execution_count": 4,
      "outputs": [
        {
          "output_type": "execute_result",
          "data": {
            "text/plain": [
              "{'Harry Potter': 'Gryffindor',\n",
              " 'Hermione Granger': 'Gryffindor',\n",
              " 'Luna Lovegood': 'Ravenclaw'}"
            ]
          },
          "metadata": {},
          "execution_count": 4
        }
      ]
    },
    {
      "cell_type": "code",
      "source": [
        "#los diccionarios pueden mutar:\n",
        "nuevo={\"Draco Malfoy\": \"Slytherin\"}\n",
        "diccionarioHP.update(nuevo)\n",
        "diccionarioHP"
      ],
      "metadata": {
        "colab": {
          "base_uri": "https://localhost:8080/"
        },
        "id": "-6VhaZJyaGM2",
        "outputId": "c2780184-4d0a-4949-d8b8-86691f2ec04a"
      },
      "execution_count": 5,
      "outputs": [
        {
          "output_type": "execute_result",
          "data": {
            "text/plain": [
              "{'Harry Potter': 'Gryffindor',\n",
              " 'Hermione Granger': 'Gryffindor',\n",
              " 'Luna Lovegood': 'Ravenclaw',\n",
              " 'Draco Malfoy': 'Slytherin'}"
            ]
          },
          "metadata": {},
          "execution_count": 5
        }
      ]
    },
    {
      "cell_type": "code",
      "source": [
        "del diccionarioHP[\"Draco Malfoy\"]\n",
        "diccionarioHP"
      ],
      "metadata": {
        "colab": {
          "base_uri": "https://localhost:8080/"
        },
        "id": "gcSTFkMh-1DJ",
        "outputId": "5ceabaa2-2878-46e0-a1a3-860e88dee48a"
      },
      "execution_count": 6,
      "outputs": [
        {
          "output_type": "execute_result",
          "data": {
            "text/plain": [
              "{'Harry Potter': 'Gryffindor',\n",
              " 'Hermione Granger': 'Gryffindor',\n",
              " 'Luna Lovegood': 'Ravenclaw'}"
            ]
          },
          "metadata": {},
          "execution_count": 6
        }
      ]
    },
    {
      "cell_type": "code",
      "source": [
        "nuevo={'Draco Malfoy': 'Slytherin','Cedric Diggory': 'Hufflepuff','Rubeus Hagrid': 'Gryffindor'}\n",
        "diccionarioHP.update(nuevo)\n",
        "diccionarioHP"
      ],
      "metadata": {
        "colab": {
          "base_uri": "https://localhost:8080/"
        },
        "id": "i0JR3klT_QeG",
        "outputId": "de5a8420-da52-43e5-f5bb-60f1491f4e14"
      },
      "execution_count": 7,
      "outputs": [
        {
          "output_type": "execute_result",
          "data": {
            "text/plain": [
              "{'Harry Potter': 'Gryffindor',\n",
              " 'Hermione Granger': 'Gryffindor',\n",
              " 'Luna Lovegood': 'Ravenclaw',\n",
              " 'Draco Malfoy': 'Slytherin',\n",
              " 'Cedric Diggory': 'Hufflepuff',\n",
              " 'Rubeus Hagrid': 'Gryffindor'}"
            ]
          },
          "metadata": {},
          "execution_count": 7
        }
      ]
    },
    {
      "cell_type": "code",
      "source": [
        "#recorriendo el diccionario:\n",
        "for llave,valor in diccionarioHP.items():\n",
        "  print((llave,valor))"
      ],
      "metadata": {
        "colab": {
          "base_uri": "https://localhost:8080/"
        },
        "id": "OdVQzil7_eKA",
        "outputId": "5f1af265-d47d-4f7e-d005-db91430a240c"
      },
      "execution_count": 9,
      "outputs": [
        {
          "output_type": "stream",
          "name": "stdout",
          "text": [
            "('Harry Potter', 'Gryffindor')\n",
            "('Hermione Granger', 'Gryffindor')\n",
            "('Luna Lovegood', 'Ravenclaw')\n",
            "('Draco Malfoy', 'Slytherin')\n",
            "('Cedric Diggory', 'Hufflepuff')\n",
            "('Rubeus Hagrid', 'Gryffindor')\n"
          ]
        }
      ]
    },
    {
      "cell_type": "code",
      "source": [
        "for llave,valor in diccionarioHP.items():\n",
        "  print(f\"El personaje {llave} corresponde a la casa de {valor}\") #no olvidar la f"
      ],
      "metadata": {
        "colab": {
          "base_uri": "https://localhost:8080/"
        },
        "id": "pJSnruGX_ymo",
        "outputId": "ad516d48-cf60-4e65-87a7-cba75b9525ec"
      },
      "execution_count": 12,
      "outputs": [
        {
          "output_type": "stream",
          "name": "stdout",
          "text": [
            "El personaje Harry Potter corresponde a la casa de Gryffindor\n",
            "El personaje Hermione Granger corresponde a la casa de Gryffindor\n",
            "El personaje Luna Lovegood corresponde a la casa de Ravenclaw\n",
            "El personaje Draco Malfoy corresponde a la casa de Slytherin\n",
            "El personaje Cedric Diggory corresponde a la casa de Hufflepuff\n",
            "El personaje Rubeus Hagrid corresponde a la casa de Gryffindor\n"
          ]
        }
      ]
    },
    {
      "cell_type": "code",
      "source": [
        "#conteo de elementos:\n",
        "from collections import Counter\n",
        "\n",
        "tabla_frecuencias=Counter(diccionarioHP.values())\n",
        "print(tabla_frecuencias)"
      ],
      "metadata": {
        "colab": {
          "base_uri": "https://localhost:8080/"
        },
        "id": "Thhf9vknAG12",
        "outputId": "725f3b1c-522a-4faa-f923-5f24217d97e8"
      },
      "execution_count": 13,
      "outputs": [
        {
          "output_type": "stream",
          "name": "stdout",
          "text": [
            "Counter({'Gryffindor': 3, 'Ravenclaw': 1, 'Slytherin': 1, 'Hufflepuff': 1})\n"
          ]
        }
      ]
    },
    {
      "cell_type": "code",
      "source": [
        "for llave,valor in tabla_frecuencias.items():\n",
        "  print((llave,valor))"
      ],
      "metadata": {
        "colab": {
          "base_uri": "https://localhost:8080/"
        },
        "id": "5vJy8qq8AsVd",
        "outputId": "f44ef8db-0608-4fd1-9b17-06e4949fef14"
      },
      "execution_count": 14,
      "outputs": [
        {
          "output_type": "stream",
          "name": "stdout",
          "text": [
            "('Gryffindor', 3)\n",
            "('Ravenclaw', 1)\n",
            "('Slytherin', 1)\n",
            "('Hufflepuff', 1)\n"
          ]
        }
      ]
    },
    {
      "cell_type": "markdown",
      "source": [
        "* Ejemplo automatizado con un archivo:"
      ],
      "metadata": {
        "id": "CAmi7s4sA3iD"
      }
    },
    {
      "cell_type": "code",
      "source": [
        "from csv import reader\n",
        "\n",
        "archivo = open(\"Characters.csv\", encoding=\"iso-8859-1\")\n",
        "lectura = reader(archivo)\n",
        "personajes = list(lectura)\n",
        "personajes"
      ],
      "metadata": {
        "colab": {
          "base_uri": "https://localhost:8080/"
        },
        "id": "2YHuHFdWaH6p",
        "outputId": "3f58edc1-7331-45ee-f4aa-4367b057eb63"
      },
      "execution_count": 32,
      "outputs": [
        {
          "output_type": "execute_result",
          "data": {
            "text/plain": [
              "[['Character ID',\n",
              "  'Character Name',\n",
              "  'Species',\n",
              "  'Gender',\n",
              "  'House',\n",
              "  'Patronus',\n",
              "  'Wand (Wood)',\n",
              "  'Wand (Core)'],\n",
              " ['1',\n",
              "  'Harry Potter',\n",
              "  'Human',\n",
              "  'Male',\n",
              "  'Gryffindor',\n",
              "  'Stag',\n",
              "  'Holly',\n",
              "  'Phoenix Feather'],\n",
              " ['2',\n",
              "  'Ron Weasley',\n",
              "  'Human',\n",
              "  'Male',\n",
              "  'Gryffindor',\n",
              "  'Jack Russell Terrier',\n",
              "  '',\n",
              "  ''],\n",
              " ['3',\n",
              "  'Hermione Granger',\n",
              "  'Human',\n",
              "  'Female',\n",
              "  'Gryffindor',\n",
              "  'Otter',\n",
              "  'Vine',\n",
              "  'Dragon Heartstring'],\n",
              " ['4',\n",
              "  'Albus Dumbledore',\n",
              "  'Human',\n",
              "  'Male',\n",
              "  'Gryffindor',\n",
              "  'Phoenix',\n",
              "  'Elder',\n",
              "  'Thestral Tail Hair'],\n",
              " ['5',\n",
              "  'Rubeus Hagrid',\n",
              "  'Half-Human/Half-Giant',\n",
              "  'Male',\n",
              "  'Gryffindor',\n",
              "  '',\n",
              "  'Oak',\n",
              "  ''],\n",
              " ['6', 'Severus Snape', 'Human', 'Male', 'Slytherin', 'Doe', '', ''],\n",
              " ['7',\n",
              "  'Minerva McGonagall',\n",
              "  'Human',\n",
              "  'Female',\n",
              "  'Gryffindor',\n",
              "  'Cat',\n",
              "  'Fir',\n",
              "  'Dragon Heartstring'],\n",
              " ['8',\n",
              "  'Horace Slughorn',\n",
              "  'Human',\n",
              "  'Male',\n",
              "  'Slytherin',\n",
              "  '',\n",
              "  'Cedar',\n",
              "  'Dragon Heartstring'],\n",
              " ['9',\n",
              "  'Voldemort',\n",
              "  'Human',\n",
              "  'Male',\n",
              "  'Slytherin',\n",
              "  '',\n",
              "  'Yew',\n",
              "  'Phoenix Feather'],\n",
              " ['10',\n",
              "  'Neville Longbottom',\n",
              "  'Human',\n",
              "  'Male',\n",
              "  'Gryffindor',\n",
              "  '',\n",
              "  'Cherry',\n",
              "  'Unicorn Hair'],\n",
              " ['11',\n",
              "  'Remus Lupin',\n",
              "  'Werewolf',\n",
              "  'Male',\n",
              "  'Gryffindor',\n",
              "  'Wolf',\n",
              "  'Cypress',\n",
              "  'Unicorn Hair'],\n",
              " ['12',\n",
              "  'Draco Malfoy',\n",
              "  'Human',\n",
              "  'Male',\n",
              "  'Slytherin',\n",
              "  '',\n",
              "  'Hawthorn',\n",
              "  'Unicorn Hair'],\n",
              " ['13', 'Alastor Moody', 'Human', 'Male', '', '', '', ''],\n",
              " ['14', 'Fred Weasley', 'Human', 'Male', 'Gryffindor', '', '', ''],\n",
              " ['15',\n",
              "  'Dolores Umbridge',\n",
              "  'Human',\n",
              "  'Female',\n",
              "  'Slytherin',\n",
              "  'Cat',\n",
              "  'Birch',\n",
              "  'Dragon Heartstring'],\n",
              " ['16', 'Arthur Weasley', 'Human', 'Male', 'Gryffindor', 'Weasel', '', ''],\n",
              " ['17', 'Cornelius Fudge', 'Human', 'Male', '', '', '', ''],\n",
              " ['18', 'Sirius Black', 'Human', 'Male', 'Gryffindor', '', '', ''],\n",
              " ['19', 'George Weasley', 'Human', 'Male', 'Gryffindor', '', '', ''],\n",
              " ['20', 'Ginny Weasley', 'Human', 'Female', 'Gryffindor', 'Horse', '', ''],\n",
              " ['21', 'Vernon Dursley', 'Human', 'Male', '', '', '', ''],\n",
              " ['22',\n",
              "  'Bellatrix Lestrange',\n",
              "  'Human',\n",
              "  'Female',\n",
              "  'Slytherin',\n",
              "  '',\n",
              "  'Walnut',\n",
              "  'Dragon Heartstring'],\n",
              " ['23',\n",
              "  'Lucius Malfoy',\n",
              "  'Human',\n",
              "  'Male',\n",
              "  'Slytherin',\n",
              "  '',\n",
              "  'Elm',\n",
              "  'Dragon Heartstring'],\n",
              " ['24',\n",
              "  'Tom Riddle',\n",
              "  'Human',\n",
              "  'Male',\n",
              "  'Slytherin',\n",
              "  '',\n",
              "  'Yew',\n",
              "  'Phoenix Feather'],\n",
              " ['25', 'Luna Lovegood', 'Human', 'Female', 'Ravenclaw', 'Hare', '', ''],\n",
              " ['26', 'Molly Weasley', 'Human', 'Female', 'Gryffindor', '', '', ''],\n",
              " ['27', 'Dobby', 'House Elf', 'Male', '', '', '', ''],\n",
              " ['28',\n",
              "  'Gilderoy Lockhart',\n",
              "  'Human',\n",
              "  'Male',\n",
              "  'Ravenclaw',\n",
              "  '',\n",
              "  'Cherry',\n",
              "  'Dragon Heartstring'],\n",
              " ['29', 'Seamus Finnigan', 'Human', 'Male', 'Gryffindor', 'Fox', '', ''],\n",
              " ['30', 'Griphook', 'Goblin', 'Male', '', '', '', ''],\n",
              " ['31', 'Dudley Dursley', 'Human', 'Male', '', '', '', ''],\n",
              " ['32', 'Petunia Dursley', 'Human', 'Female', '', '', '', ''],\n",
              " ['33', 'Barty Crouch Sr.', 'Human', 'Male', '', '', '', ''],\n",
              " ['34', 'Xenophilius Lovegood', 'Human', 'Male', '', '', '', ''],\n",
              " ['35', 'Argus Filch', 'Human', 'Male', '', '', '', ''],\n",
              " ['36', 'Cedric Diggory', 'Human', 'Male', 'Hufflepuff', '', '', ''],\n",
              " ['37', 'Percy Weasley', 'Human', 'Male', 'Gryffindor', '', '', ''],\n",
              " ['38',\n",
              "  'Sybill Trelawney',\n",
              "  'Human',\n",
              "  'Female',\n",
              "  'Ravenclaw',\n",
              "  '',\n",
              "  'Hazel',\n",
              "  'Unicorn Hair'],\n",
              " ['39', 'Moaning Myrtle', 'Ghost', 'Female', 'Ravenclaw', '', '', ''],\n",
              " ['40', 'Aberforth Dumbledore', 'Human', 'Male', '', 'Goat', '', ''],\n",
              " ['41',\n",
              "  'Quirinus Quirrell',\n",
              "  'Human',\n",
              "  'Male',\n",
              "  'Ravenclaw',\n",
              "  '',\n",
              "  'Alder',\n",
              "  'Unicorn Hair'],\n",
              " ['42', 'James Potter', 'Human', 'Male', 'Gryffindor', 'Stag', 'Mahogany', ''],\n",
              " ['43',\n",
              "  'Garrick Ollivander',\n",
              "  'Human',\n",
              "  'Male',\n",
              "  'Ravenclaw',\n",
              "  '',\n",
              "  'Hornbeam',\n",
              "  'Dragon Heartstring'],\n",
              " ['44',\n",
              "  'Peter Pettigrew',\n",
              "  'Human',\n",
              "  'Male',\n",
              "  'Gryffindor',\n",
              "  '',\n",
              "  'Chestnut',\n",
              "  'Dragon Heartstring'],\n",
              " ['45', 'Lily Potter', 'Human', 'Female', 'Gryffindor', 'Doe', 'Willow', ''],\n",
              " ['46', 'Oliver Wood', 'Human', 'Male', 'Gryffindor', '', '', ''],\n",
              " ['47', 'Nearly Headless Nick', 'Ghost', 'Human', 'Gryffindor', '', '', ''],\n",
              " ['48', 'Kreacher', 'House Elf', 'Male', '', '', '', ''],\n",
              " ['49', 'Igor Karkaroff', 'Human', 'Male', '', '', '', ''],\n",
              " ['50', 'Rolanda Hooch', 'Human', 'Female', '', '', '', ''],\n",
              " ['51', 'Rufus Scrimgeour', 'Human', 'Male', '', '', '', ''],\n",
              " ['52', 'Lee Jordan', 'Human', 'Male', 'Gryffindor', '', '', ''],\n",
              " ['53', 'Scabior', 'Human', 'Male', 'Slytherin', '', '', ''],\n",
              " ['54', 'Helena Ravenclaw', 'Ghost', 'Female', 'Ravenclaw', '', '', ''],\n",
              " ['55', 'Cho Chang', 'Human', 'Female', 'Ravenclaw', 'Swan', '', ''],\n",
              " ['56', 'Kingsley Shacklebolt', 'Human', 'Male', '', 'Lynx', '', ''],\n",
              " ['57', 'Rita Skeeter', 'Human', 'Female', '', '', '', ''],\n",
              " ['58', 'Stanley Shunpike', 'Human', 'Male', '', '', '', ''],\n",
              " ['59',\n",
              "  'Filius Flitwick',\n",
              "  'Human (Part-Goblin)',\n",
              "  'Male',\n",
              "  'Ravenclaw',\n",
              "  '',\n",
              "  '',\n",
              "  ''],\n",
              " ['60', 'Marge Dursley', 'Human', 'Female', '', '', '', ''],\n",
              " ['61',\n",
              "  'Nymphadora Tonks',\n",
              "  'Human',\n",
              "  'Female',\n",
              "  'Hufflepuff',\n",
              "  'Jack rabbit',\n",
              "  '',\n",
              "  ''],\n",
              " ['62', 'Elphias Doge', 'Human', 'Male', '', '', '', ''],\n",
              " ['63', 'Narcissa Malfoy', 'Human', 'Female', 'Slytherin', '', '', ''],\n",
              " ['64', 'Bogrod', 'Goblin', 'Male', '', '', '', ''],\n",
              " ['65', 'Lavender Brown', 'Human', 'Female', 'Gryffindor', '', '', ''],\n",
              " ['66', 'Rosmerta', 'Human', 'Female', '', '', '', ''],\n",
              " ['67', 'Amos Diggory', 'Human', 'Male', '', '', '', ''],\n",
              " ['68', 'Aragog', 'Acromantula', 'Male', '', '', '', ''],\n",
              " ['69',\n",
              "  'Olympe Maxime',\n",
              "  'Half-Human/Half-Giant',\n",
              "  'Female',\n",
              "  'Beauxbatons Academy of Magic',\n",
              "  '',\n",
              "  '',\n",
              "  ''],\n",
              " ['70', 'Corban Yaxley', 'Human', 'Male', 'Slytherin', '', '', ''],\n",
              " ['71', 'Cormac McLaggen', 'Human', 'Male', 'Gryffindor', '', '', ''],\n",
              " ['72', 'Susan Bones', 'Human', 'Female', 'Hufflepuff', '', '', ''],\n",
              " ['73',\n",
              "  'Bill Weasley',\n",
              "  'Human\\xa0(Werewolf\\xa0traits)',\n",
              "  'Male',\n",
              "  'Gryffindor',\n",
              "  '',\n",
              "  '',\n",
              "  ''],\n",
              " ['74', 'Angelina Johnson', 'Human', 'Female', 'Gryffindor', '', '', ''],\n",
              " ['75', 'Dean Thomas', 'Human', 'Male', 'Gryffindor', '', '', ''],\n",
              " ['76', 'Mundungus Fletcher', 'Human', 'Male', '', '', '', ''],\n",
              " ['77', 'Muriel', 'Human', 'Female', '', '', '', ''],\n",
              " ['78', 'Parvati Patil', 'Human', 'Female', 'Gryffindor', '', '', ''],\n",
              " ['79', 'Pomona Sprout', 'Human', 'Female', 'Hufflepuff', '', '', ''],\n",
              " ['80', 'Vincent Crabbe', 'Human', 'Male', 'Slytherin', '', '', ''],\n",
              " ['81',\n",
              "  'Fleur Delacour',\n",
              "  'Human (Quarter-Veela)',\n",
              "  'Female',\n",
              "  'Beauxbatons Academy of Magic',\n",
              "  '',\n",
              "  '',\n",
              "  ''],\n",
              " ['82', 'Marcus Flint', 'Human', 'Male', 'Slytherin', '', '', ''],\n",
              " ['83', 'Mary Cattermole', 'Human', 'Female', '', '', '', ''],\n",
              " ['84', 'Albus Potter', 'Human', 'Male', 'Slytherin', '', '', ''],\n",
              " ['85', 'Poppy Pomfrey', 'Human', 'Female', '', '', '', ''],\n",
              " ['86', 'Serpent of Slitherin', 'Basilisk', 'Female', '', '', '', ''],\n",
              " ['87', 'Firenze', 'Centaur', 'Male', '', '', '', ''],\n",
              " ['88', 'Arabella Figg', 'Human', 'Female', '', '', '', ''],\n",
              " ['89', 'Barty Crouch Jr.', 'Human', 'Male', '', '', '', ''],\n",
              " ['90', 'Mrs. Cole', 'Human', 'Male', '', '', '', ''],\n",
              " ['91', 'Pansy Parkinson', 'Human', 'Female', 'Slytherin', '', '', ''],\n",
              " ['92', 'Tom', 'Human', 'Male', '', '', '', ''],\n",
              " ['93', 'Grawp', 'Giant', 'Male', '', '', '', ''],\n",
              " ['94', 'Katie Bell', 'Human', 'Female', 'Gryffindor', '', '', ''],\n",
              " ['95', 'Mrs. Granger', 'Human', 'Female', '', '', '', ''],\n",
              " ['96', 'Pius Thicknesse', 'Human', 'Male', '', '', '', ''],\n",
              " ['97', 'Bane', 'Centaur', 'Male', '', '', '', ''],\n",
              " ['98',\n",
              "  'Gellert Grindelwald',\n",
              "  'Human',\n",
              "  'Male',\n",
              "  'Durmstrang Institute',\n",
              "  '',\n",
              "  '',\n",
              "  ''],\n",
              " ['99', 'Gregory Goyle', 'Human', 'Male', 'Slytherin', '', '', ''],\n",
              " ['100', 'Leanne', 'Human', 'Female', 'Hufflepuff', '', '', ''],\n",
              " ['101', 'Padma Patil', 'Human', 'Female', 'Ravenclaw', '', '', ''],\n",
              " ['102', 'Fenrir Greyback', 'Werewolf', 'Male', '', '', '', ''],\n",
              " ['103', 'Magorian', 'Centaur', 'Male', '', '', '', ''],\n",
              " ['104', 'Bathilda Bagshot', 'Human', 'Female', '', '', '', ''],\n",
              " ['105', 'Blaise Zabini', 'Human', 'Male', 'Slytherin', '', '', ''],\n",
              " ['106', 'Colin Creevey', 'Human', 'Male', 'Gryffindor', '', '', ''],\n",
              " ['107', 'Everard', 'Human', 'Male', '', '', '', ''],\n",
              " ['108', 'Griselda Marchbanks', 'Human', 'Female', '', '', '', ''],\n",
              " ['109', 'Justin Finch-Fletchley', 'Human', 'Male', 'Hufflepuff', '', '', ''],\n",
              " ['110', 'Mr. Granger', 'Human', 'Male', '', '', '', ''],\n",
              " ['111', 'Nigel Wolpert', 'Human', 'Male', 'Gryffindor', '', '', ''],\n",
              " ['112', 'Perkins', 'Human', 'Male', '', '', '', ''],\n",
              " ['113', 'Phineas', 'Human', 'Male', '', '', '', ''],\n",
              " ['114', 'Viktor Krum', 'Human', 'Male', 'Durmstrang Institute', '', '', ''],\n",
              " ['115', 'Walburga Black', 'Human', 'Female', 'Slytherin', '', '', ''],\n",
              " ['116', 'Zacharias Smith', 'Human', 'Male', 'Hufflepuff', '', '', ''],\n",
              " ['117', 'Bloody Baron', 'Ghost', 'Male', 'Slytherin', '', '', ''],\n",
              " ['118', 'Ernest Macmillan', 'Human', 'Male', 'Hufflepuff', 'Boar', '', ''],\n",
              " ['119', 'Michael Corner', 'Human', 'Male', 'Ravenclaw', 'Squirrel', '', ''],\n",
              " ['120', 'Alecto Carrow', 'Human', 'Female', 'Slytherin', '', '', ''],\n",
              " ['121', 'Charity Burbage', 'Human', 'Female', '', '', '', ''],\n",
              " ['122', 'Dilys Derwent', 'Human', 'Female', '', '', '', ''],\n",
              " ['123', 'Eldred Worple', 'Human', 'Male', '', '', '', ''],\n",
              " ['124', 'Marcus Belby', 'Human', 'Male', 'Ravenclaw', '', '', ''],\n",
              " ['125', 'Mykew Gregorovitch', 'Human', 'Male', '', '', '', ''],\n",
              " ['126', 'Other', '', '', '', '', '', ''],\n",
              " ['127', 'Students', '', '', '', '', '', ''],\n",
              " ['128', 'Sorting Hat', '', '', '', '', '', ''],\n",
              " ['129', 'Ghosts', '', '', '', '', '', ''],\n",
              " ['130', 'Merpeople', '', '', '', '', '', ''],\n",
              " ['131', 'Gang thug', '', '', '', '', '', ''],\n",
              " ['132', 'Goblin', '', '', '', '', '', ''],\n",
              " ['133', 'Station guard', '', '', '', '', '', ''],\n",
              " ['134', 'Girl', '', '', '', '', '', ''],\n",
              " ['135', 'Guard', '', '', '', '', '', ''],\n",
              " ['136', 'All', '', '', '', '', '', ''],\n",
              " ['137', 'Maid', '', '', '', '', '', ''],\n",
              " ['138', 'Boy', '', '', '', '', '', ''],\n",
              " ['139', 'Man', '', '', '', '', '', ''],\n",
              " ['140', 'Woman', '', '', '', '', '', ''],\n",
              " ['141', 'The Fat Lady', '', '', '', '', '', ''],\n",
              " ['142', 'Snatcher', '', '', '', '', '', ''],\n",
              " ['143', 'Wizard', '', '', '', '', '', ''],\n",
              " ['144', 'Diary', '', '', '', '', '', ''],\n",
              " ['145', 'Trolley witch', '', '', '', '', '', ''],\n",
              " ['146', 'Waitress', '', '', '', '', '', ''],\n",
              " ['147', 'Ghost', '', '', '', '', '', ''],\n",
              " ['148', 'Howler', '', '', '', '', '', ''],\n",
              " ['149', 'Old man', '', '', '', '', '', ''],\n",
              " ['150', 'Shrunken head', '', '', '', '', '', ''],\n",
              " ['151', 'Skinny kid', '', '', '', '', '', ''],\n",
              " ['152', 'Snake', '', '', '', '', '', ''],\n",
              " ['153', 'Witch', '', '', '', '', '', ''],\n",
              " ['154', 'Class', '', '', '', '', '', ''],\n",
              " ['155', 'Whomping Willow', '', '', '', '', '', ''],\n",
              " ['156', 'Centaur', '', '', '', '', '', ''],\n",
              " ['157', 'Death Eater', '', '', '', '', '', ''],\n",
              " ['158', 'Man in a painting', '', '', '', '', '', ''],\n",
              " ['159', 'Photographer', '', '', '', '', '', ''],\n",
              " ['160', 'Pixie', '', '', '', '', '', ''],\n",
              " ['161', 'Student', '', '', '', '', '', ''],\n",
              " ['162', 'Waiter', '', '', '', '', '', ''],\n",
              " ['163', 'Boy 2', '', '', '', '', '', ''],\n",
              " ['164', 'Crowd', '', '', '', '', '', ''],\n",
              " ['165', 'Gryffindors', '', '', '', '', '', ''],\n",
              " ['166', 'Professors', '', '', '', '', '', '']]"
            ]
          },
          "metadata": {},
          "execution_count": 32
        }
      ]
    },
    {
      "cell_type": "code",
      "source": [
        "personajes[1]"
      ],
      "metadata": {
        "colab": {
          "base_uri": "https://localhost:8080/"
        },
        "id": "WlF6AimlFvoT",
        "outputId": "1fb4019c-e096-4caf-db1b-92430460aa1b"
      },
      "execution_count": 39,
      "outputs": [
        {
          "output_type": "execute_result",
          "data": {
            "text/plain": [
              "['1',\n",
              " 'Harry Potter',\n",
              " 'Human',\n",
              " 'Male',\n",
              " 'Gryffindor',\n",
              " 'Stag',\n",
              " 'Holly',\n",
              " 'Phoenix Feather']"
            ]
          },
          "metadata": {},
          "execution_count": 39
        }
      ]
    },
    {
      "cell_type": "code",
      "source": [
        "personajes[1][4]"
      ],
      "metadata": {
        "colab": {
          "base_uri": "https://localhost:8080/",
          "height": 35
        },
        "id": "NaEDWDsbFYDX",
        "outputId": "6f78fcfc-e8dc-48d8-cd69-6276d35b6b18"
      },
      "execution_count": 38,
      "outputs": [
        {
          "output_type": "execute_result",
          "data": {
            "text/plain": [
              "'Gryffindor'"
            ],
            "application/vnd.google.colaboratory.intrinsic+json": {
              "type": "string"
            }
          },
          "metadata": {},
          "execution_count": 38
        }
      ]
    },
    {
      "cell_type": "code",
      "source": [
        "tabla={}\n",
        "\n",
        "for p in personajes[1:]:  #sin contar la primera fila, en donde están los rótulos de las variables\n",
        "  t=str(p[4])             #quinto elemento es la casa\n",
        "  if t in tabla:\n",
        "    tabla[t]+=1\n",
        "  elif t==\"\":\n",
        "    pass\n",
        "  else:\n",
        "    tabla[t]=1\n",
        "\n",
        "tabla"
      ],
      "metadata": {
        "colab": {
          "base_uri": "https://localhost:8080/"
        },
        "id": "kx5WhqJcCfTn",
        "outputId": "ecbc93f1-134d-4c01-ca39-d3feb477385b"
      },
      "execution_count": 41,
      "outputs": [
        {
          "output_type": "execute_result",
          "data": {
            "text/plain": [
              "{'Gryffindor': 31,\n",
              " 'Slytherin': 20,\n",
              " 'Ravenclaw': 12,\n",
              " 'Hufflepuff': 8,\n",
              " 'Beauxbatons Academy of Magic': 2,\n",
              " 'Durmstrang Institute': 2}"
            ]
          },
          "metadata": {},
          "execution_count": 41
        }
      ]
    },
    {
      "cell_type": "markdown",
      "source": [
        "Ejercicio $1$:\n",
        "\n",
        "Una librería dispone de tres tipos de tiendas: 1 (sucursal principal), 2 (sucursal de temporada), 3 (kiosko). En ellas, las personas pueden canjear cupones de descuentos para adquirir libros. \n",
        "\n",
        "La base de datos disponible reúne la cantidad de cupones canjeados en cada una de las 30 tiendas, así como también el tipo de ellas, en el último mes.\n",
        "\n",
        "1.   Usando diccionarios, construya una tabla de frecuencias que muestre la cantidad de tiendas por tipo.\n",
        "2.   Muestre cómo encontrar la moda, a partir de su tabla anterior.\n",
        "3.   Construya una tabla de frecuencias desagregada para la cantidad de cupones canjeados en total.\n",
        "4.   Use su tabla de frecuencias anterior para calcular el promedio de cupones canjeados por tienda en el último mes.\n",
        "5.   Construya un diccionario que le permita calcular la varianza muestral de la cantidad de cupones que se canjearon el mes anterior.\n",
        "\n",
        "\n"
      ],
      "metadata": {
        "id": "aOJdksAeH3uX"
      }
    },
    {
      "cell_type": "markdown",
      "source": [
        "Ejercicio $2$:\n",
        "\n",
        "Programe una rutina que reciba dos diccionarios y que sea capaz de identificar (desplegar) aquellas claves que están asociadas a los mismos valores, en ambos diccionarios."
      ],
      "metadata": {
        "id": "Yy4FX6kCI-JJ"
      }
    },
    {
      "cell_type": "markdown",
      "source": [
        "Ejercicio $3$:\n",
        "\n",
        "Usando un diccionario, con claves y valores apropiados, calcule: $$\\sum_{i=1}^{15}i^2$$"
      ],
      "metadata": {
        "id": "FIG18jlGJcwu"
      }
    }
  ]
}