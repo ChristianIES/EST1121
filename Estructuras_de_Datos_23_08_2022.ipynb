{
  "nbformat": 4,
  "nbformat_minor": 0,
  "metadata": {
    "colab": {
      "name": "Estructuras de Datos - 23-08-2022.ipynb",
      "provenance": [],
      "collapsed_sections": [],
      "authorship_tag": "ABX9TyNKp9bxBA6juP0yh5KTBNPW",
      "include_colab_link": true
    },
    "kernelspec": {
      "name": "python3",
      "display_name": "Python 3"
    },
    "language_info": {
      "name": "python"
    }
  },
  "cells": [
    {
      "cell_type": "markdown",
      "metadata": {
        "id": "view-in-github",
        "colab_type": "text"
      },
      "source": [
        "<a href=\"https://colab.research.google.com/github/ChristianIES/EST1121/blob/main/Estructuras_de_Datos_23_08_2022.ipynb\" target=\"_parent\"><img src=\"https://colab.research.google.com/assets/colab-badge.svg\" alt=\"Open In Colab\"/></a>"
      ]
    },
    {
      "cell_type": "markdown",
      "source": [
        "**Herencia:** ejemplo 1"
      ],
      "metadata": {
        "id": "55q1WB48KstS"
      }
    },
    {
      "cell_type": "code",
      "execution_count": null,
      "metadata": {
        "id": "rJgHjWRy0tTl"
      },
      "outputs": [],
      "source": [
        "class Persona:\n",
        "    def __init__(self,n,a,e):\n",
        "        self.nombre=n\n",
        "        self.apellido=a\n",
        "        self.edad=e\n",
        "        if(e>=18):\n",
        "            self.mayor=True\n",
        "        else:\n",
        "            self.mayor=False\n",
        "\n",
        "    def presentarse(self):\n",
        "        print(\"Mi nombre es: \",self.nombre,\" \",self.apellido,\" y tengo \",self.edad,\" años.\")\n",
        "\n",
        "    def DefinirEdad(self,valor):\n",
        "        print(\"Mi edad actual es: \",self.edad)\n",
        "        if(valor>=0):\n",
        "            self.edad=valor\n",
        "            print(\"Actualizacion exitosa de edad. Ahora tengo: \",self.edad,\" años.\")\n",
        "        else:\n",
        "            #self.edad=self.edad\n",
        "            print(\"Edad no es valida.\")"
      ]
    },
    {
      "cell_type": "code",
      "source": [
        "class Trabajador(Persona):\n",
        "    pass\n"
      ],
      "metadata": {
        "id": "Ct6X3QpMdI8T"
      },
      "execution_count": null,
      "outputs": []
    },
    {
      "cell_type": "markdown",
      "source": [
        "Ejemplo de uso:"
      ],
      "metadata": {
        "id": "V_TQkC_TdOoU"
      }
    },
    {
      "cell_type": "code",
      "source": [
        "t1=Trabajador(\"Amelia\",\"Araya\",3)\n",
        "t1.presentarse()\n",
        "t1.DefinirEdad(18)"
      ],
      "metadata": {
        "colab": {
          "base_uri": "https://localhost:8080/"
        },
        "id": "fwzkLBNB1TNq",
        "outputId": "f3824932-0c53-4bd8-df45-247cf8a9119d"
      },
      "execution_count": null,
      "outputs": [
        {
          "output_type": "stream",
          "name": "stdout",
          "text": [
            "Mi nombre es:  Amelia   Araya  y tengo  3  años.\n",
            "Mi edad actual es:  3\n",
            "Actualizacion exitosa de edad. Ahora tengo:  18  años.\n"
          ]
        }
      ]
    },
    {
      "cell_type": "markdown",
      "source": [
        "**Herencia:** ejemplo 2"
      ],
      "metadata": {
        "id": "Kl6WOlLHdZG3"
      }
    },
    {
      "cell_type": "code",
      "source": [
        "class Persona:\n",
        "    def __init__(self,n,a,e):\n",
        "        self.nombre=n\n",
        "        self.apellido=a\n",
        "        self.edad=e\n",
        "        if(e>=18):\n",
        "            self.mayor=True\n",
        "        else:\n",
        "            self.mayor=False\n",
        "\n",
        "    def presentarse(self):\n",
        "        print(\"Mi nombre es: \",self.nombre,\" \",self.apellido,\" y tengo \",self.edad,\" años.\")\n",
        "\n",
        "    def DefinirEdad(self,valor):\n",
        "        print(\"Mi edad actual es: \",self.edad)\n",
        "        if(valor>=0):\n",
        "            self.edad=valor\n",
        "            print(\"Actualizacion exitosa de edad. Ahora tengo: \",self.edad,\" años.\")\n",
        "        else:\n",
        "            #self.edad=self.edad\n",
        "            print(\"Edad no es valida.\")"
      ],
      "metadata": {
        "id": "rUjDFoDe1XVn"
      },
      "execution_count": null,
      "outputs": []
    },
    {
      "cell_type": "code",
      "source": [
        "class Trabajador(Persona):\n",
        "    def EncuentraEmpleo(self,t,s):\n",
        "        self.trabajo=t\n",
        "        self.salario=s\n",
        "\n",
        "    def MuestraEmpleo(self):\n",
        "        print(\"Actualmente me dedico a: \",self.trabajo)\n",
        "\n",
        "    def MuestraSalario(self):\n",
        "        print(\"Actualmente percibo ingresos de: \",self.salario)"
      ],
      "metadata": {
        "id": "Fs7ViJBydinG"
      },
      "execution_count": null,
      "outputs": []
    },
    {
      "cell_type": "markdown",
      "source": [
        "Ejemplo de uso:"
      ],
      "metadata": {
        "id": "b04YNIqiEqyq"
      }
    },
    {
      "cell_type": "code",
      "source": [
        "t1=Trabajador(\"Amelia\",\"Araya\",3)\n",
        "t1.presentarse()\n",
        "t1.DefinirEdad(18)\n",
        "t1.EncuentraEmpleo(\"Arquitecta\",1000000)\n",
        "t1.MuestraEmpleo()\n",
        "t1.MuestraSalario()"
      ],
      "metadata": {
        "id": "6sHghGixEvlo",
        "colab": {
          "base_uri": "https://localhost:8080/"
        },
        "outputId": "3721d1a4-e0d2-46aa-de59-26451d0df817"
      },
      "execution_count": null,
      "outputs": [
        {
          "output_type": "stream",
          "name": "stdout",
          "text": [
            "Mi nombre es:  Amelia   Araya  y tengo  3  años.\n",
            "Mi edad actual es:  3\n",
            "Actualizacion exitosa de edad. Ahora tengo:  18  años.\n",
            "Actualmente me dedico a:  Arquitecta\n",
            "Actualmente percibo ingresos de:  1000000\n"
          ]
        }
      ]
    },
    {
      "cell_type": "markdown",
      "source": [
        "**Herencia:** ejemplo 3"
      ],
      "metadata": {
        "id": "kDNm3s6Odvb0"
      }
    },
    {
      "cell_type": "code",
      "source": [
        "class Persona:\n",
        "    def __init__(self,n,a,e):\n",
        "        self.nombre=n\n",
        "        self.apellido=a\n",
        "        self.edad=e\n",
        "        if(e>=18):\n",
        "            self.mayor=True\n",
        "        else:\n",
        "            self.mayor=False\n",
        "\n",
        "    def presentarse(self):\n",
        "        print(\"Mi nombre es: \",self.nombre,\" \",self.apellido,\" y tengo \",self.edad,\" años.\")\n",
        "\n",
        "    def DefinirEdad(self,valor):\n",
        "        print(\"Mi edad actual es: \",self.edad)\n",
        "        if(valor>=0):\n",
        "            self.edad=valor\n",
        "            print(\"Actualizacion exitosa de edad. Ahora tengo: \",self.edad,\" años.\")\n",
        "        else:\n",
        "            #self.edad=self.edad\n",
        "            print(\"Edad no es valida.\")"
      ],
      "metadata": {
        "id": "ADsTJui2FLtC"
      },
      "execution_count": null,
      "outputs": []
    },
    {
      "cell_type": "code",
      "source": [
        "class Trabajador(Persona):\n",
        "    def __init__(self,n,a,e,t,s):\n",
        "        super().__init__(n,a,e)\n",
        "        self.trabajo=t\n",
        "        self.salario=s\n",
        "\n",
        "    def EncuentraEmpleo(self,t,s):\n",
        "        self.trabajo=t\n",
        "        self.salario=s\n",
        "\n",
        "    def MuestraEmpleo(self):\n",
        "        print(\"Actualmente me dedico a: \",self.trabajo)\n",
        "\n",
        "    def MuestraSalario(self):\n",
        "        print(\"Actualmente percibo ingresos de: \",self.salario)"
      ],
      "metadata": {
        "id": "Ln9Wx_YRd3FY"
      },
      "execution_count": null,
      "outputs": []
    },
    {
      "cell_type": "markdown",
      "source": [
        "Ejemplo de uso:"
      ],
      "metadata": {
        "id": "g8eiDJOud5b_"
      }
    },
    {
      "cell_type": "code",
      "source": [
        "t1=Trabajador(\"Amelia\",\"Araya\",3,\"Chef\",970000)\n",
        "t1.presentarse()\n",
        "t1.MuestraEmpleo()\n",
        "t1.MuestraSalario()\n",
        "t1.DefinirEdad(18)\n",
        "t1.presentarse()"
      ],
      "metadata": {
        "colab": {
          "base_uri": "https://localhost:8080/"
        },
        "id": "natcl33ad8RN",
        "outputId": "4b580371-5eff-48cd-a005-c069c40ecb6e"
      },
      "execution_count": null,
      "outputs": [
        {
          "output_type": "stream",
          "name": "stdout",
          "text": [
            "Mi nombre es:  Amelia   Araya  y tengo  3  años.\n",
            "Actualmente me dedico a:  Chef\n",
            "Actualmente percibo ingresos de:  970000\n",
            "Mi edad actual es:  3\n",
            "Actualizacion exitosa de edad. Ahora tengo:  18  años.\n",
            "Mi nombre es:  Amelia   Araya  y tengo  18  años.\n"
          ]
        }
      ]
    },
    {
      "cell_type": "markdown",
      "source": [
        "**Herencia:** ejemplo 4"
      ],
      "metadata": {
        "id": "d-eECUIReRMb"
      }
    },
    {
      "cell_type": "code",
      "source": [
        "#sobreescritura de un metodo:\n",
        "\n",
        "class Persona:\n",
        "    def __init__(self,n,a,e):\n",
        "        self.nombre=n\n",
        "        self.apellido=a\n",
        "        self.edad=e\n",
        "        if(e>=18):\n",
        "            self.mayor=True\n",
        "        else:\n",
        "            self.mayor=False\n",
        "\n",
        "    def presentarse(self):\n",
        "        print(\"Mi nombre es: \",self.nombre,\" \",self.apellido,\" y tengo \",self.edad,\" años.\")\n",
        "\n",
        "    def DefinirEdad(self,valor):\n",
        "        print(\"Mi edad actual es: \",self.edad)\n",
        "        if(valor>=0):\n",
        "            self.edad=valor\n",
        "            print(\"Actualizacion exitosa de edad. Ahora tengo: \",self.edad,\" años.\")\n",
        "        else:\n",
        "            #self.edad=self.edad\n",
        "            print(\"Edad no es valida.\")"
      ],
      "metadata": {
        "id": "Zrjf2YkjeQ5s"
      },
      "execution_count": null,
      "outputs": []
    },
    {
      "cell_type": "code",
      "source": [
        "class Trabajador(Persona):\n",
        "    def __init__(self,n,a,e,t,s):\n",
        "        super().__init__(n,a,e)\n",
        "        self.trabajo=t\n",
        "        self.salario=s\n",
        "\n",
        "    def presentarse(self):                              #overriding methods\n",
        "        super().presentarse()\n",
        "        print(\"Me dedico a: \",self.trabajo)\n",
        "        print(\"Percibo ingresos de: \",self.salario)\n",
        "\n",
        "    def EncuentraEmpleo(self,t,s):\n",
        "        self.trabajo=t\n",
        "        self.salario=s\n",
        "\n",
        "    def MuestraEmpleo(self):\n",
        "        print(\"Actualmente me dedico a: \",self.trabajo)\n",
        "\n",
        "    def MuestraSalario(self):\n",
        "        print(\"Actualmente percibo ingresos de: \",self.salario)\n"
      ],
      "metadata": {
        "id": "J9FWC0UqeXA3"
      },
      "execution_count": null,
      "outputs": []
    },
    {
      "cell_type": "markdown",
      "source": [
        "Ejemplo de uso:"
      ],
      "metadata": {
        "id": "9te2gCs-ehDS"
      }
    },
    {
      "cell_type": "code",
      "source": [
        "t1=Trabajador(\"Amelia\",\"Araya\",3,\"Chef\",970000)\n",
        "t1.presentarse()\n",
        "p1=Persona(\"Constanza\",\"Sagardia\",19)\n",
        "p1.presentarse()\n"
      ],
      "metadata": {
        "id": "cZC4R56neiBj"
      },
      "execution_count": null,
      "outputs": []
    }
  ]
}