{
  "nbformat": 4,
  "nbformat_minor": 0,
  "metadata": {
    "colab": {
      "name": "Estructuras de Datos - 09-08-2022.ipynb",
      "provenance": [],
      "authorship_tag": "ABX9TyN5l4bwQVqKxyaLXvR9BF/h",
      "include_colab_link": true
    },
    "kernelspec": {
      "name": "python3",
      "display_name": "Python 3"
    },
    "language_info": {
      "name": "python"
    }
  },
  "cells": [
    {
      "cell_type": "markdown",
      "metadata": {
        "id": "view-in-github",
        "colab_type": "text"
      },
      "source": [
        "<a href=\"https://colab.research.google.com/github/ChristianIES/EST1121/blob/main/Estructuras_de_Datos_09_08_2022.ipynb\" target=\"_parent\"><img src=\"https://colab.research.google.com/assets/colab-badge.svg\" alt=\"Open In Colab\"/></a>"
      ]
    },
    {
      "cell_type": "code",
      "execution_count": null,
      "metadata": {
        "colab": {
          "base_uri": "https://localhost:8080/"
        },
        "id": "25udqZkm1Dm3",
        "outputId": "ab936896-9a3d-45a1-913e-4f21a8a18b1a"
      },
      "outputs": [
        {
          "output_type": "stream",
          "name": "stdout",
          "text": [
            "hola\n"
          ]
        }
      ],
      "source": [
        "def funcion1():\n",
        "  print(\"hola\")\n",
        "\n",
        "funcion1()"
      ]
    },
    {
      "cell_type": "code",
      "source": [
        "def funcion2(n):    #funcion que calcula el ...\n",
        "  return 4*n\n",
        "\n",
        "funcion2(3)"
      ],
      "metadata": {
        "colab": {
          "base_uri": "https://localhost:8080/"
        },
        "id": "qdLsdCw08RJt",
        "outputId": "df9a9211-314c-45da-a433-24e48720db29"
      },
      "execution_count": null,
      "outputs": [
        {
          "output_type": "execute_result",
          "data": {
            "text/plain": [
              "12"
            ]
          },
          "metadata": {},
          "execution_count": 4
        }
      ]
    },
    {
      "cell_type": "code",
      "source": [
        "def funcion3(n,m):\n",
        "  return n+m,n-m"
      ],
      "metadata": {
        "id": "vNWdDeDH80-O"
      },
      "execution_count": null,
      "outputs": []
    },
    {
      "cell_type": "code",
      "source": [
        "var1,var2=funcion3(10,5)"
      ],
      "metadata": {
        "id": "usmZfg5287ap"
      },
      "execution_count": null,
      "outputs": []
    },
    {
      "cell_type": "code",
      "source": [
        "print(var1)"
      ],
      "metadata": {
        "colab": {
          "base_uri": "https://localhost:8080/"
        },
        "id": "UlFxo46I9BV_",
        "outputId": "97a52059-7ecd-4d76-f808-8d53c3ed5091"
      },
      "execution_count": null,
      "outputs": [
        {
          "output_type": "stream",
          "name": "stdout",
          "text": [
            "15\n"
          ]
        }
      ]
    },
    {
      "cell_type": "code",
      "source": [
        "print(var2)"
      ],
      "metadata": {
        "colab": {
          "base_uri": "https://localhost:8080/"
        },
        "id": "zILZWz3I9JWr",
        "outputId": "3fd2ec1c-dfcd-45dc-8bef-a60e2f4da371"
      },
      "execution_count": null,
      "outputs": [
        {
          "output_type": "stream",
          "name": "stdout",
          "text": [
            "5\n"
          ]
        }
      ]
    },
    {
      "cell_type": "code",
      "source": [
        "def funcion4(n,m):\n",
        "  if(n<m):\n",
        "    return m-n\n",
        "  else:\n",
        "    return n-m"
      ],
      "metadata": {
        "id": "j5dq9ju09WqV"
      },
      "execution_count": null,
      "outputs": []
    },
    {
      "cell_type": "code",
      "source": [
        "funcion4(1,3)"
      ],
      "metadata": {
        "colab": {
          "base_uri": "https://localhost:8080/"
        },
        "id": "8EWoiDEn9e26",
        "outputId": "50c8215c-dab3-42e0-a47e-494ffa4d28b7"
      },
      "execution_count": null,
      "outputs": [
        {
          "output_type": "execute_result",
          "data": {
            "text/plain": [
              "2"
            ]
          },
          "metadata": {},
          "execution_count": 10
        }
      ]
    },
    {
      "cell_type": "code",
      "source": [
        "funcion4(3,2)"
      ],
      "metadata": {
        "colab": {
          "base_uri": "https://localhost:8080/"
        },
        "id": "CGJGJ8DO9vXf",
        "outputId": "cffbeb76-76fa-4d0c-c9f2-e3c0737a2a38"
      },
      "execution_count": null,
      "outputs": [
        {
          "output_type": "execute_result",
          "data": {
            "text/plain": [
              "1"
            ]
          },
          "metadata": {},
          "execution_count": 11
        }
      ]
    },
    {
      "cell_type": "code",
      "source": [
        "def MinMax(n,m):\n",
        "  if(n<=m):\n",
        "    return n,m\n",
        "  else:\n",
        "    return m,n"
      ],
      "metadata": {
        "id": "P6LRhhp093KG"
      },
      "execution_count": null,
      "outputs": []
    },
    {
      "cell_type": "code",
      "source": [
        "n1=int(input(\"Ingrese un número:\"))\n",
        "n2=int(input(\"Ingrese otro número:\"))\n",
        "minimo,maximo=MinMax(n1,n2)\n",
        "print(\"El mínimo es \", minimo, \" y el máximo es \", maximo)"
      ],
      "metadata": {
        "colab": {
          "base_uri": "https://localhost:8080/"
        },
        "id": "K3LayKSI-s6o",
        "outputId": "16959b30-e90d-4f49-e6cf-bbc7c2042eb6"
      },
      "execution_count": null,
      "outputs": [
        {
          "output_type": "stream",
          "name": "stdout",
          "text": [
            "Ingrese un número:10\n",
            "Ingrese otro número:-8\n",
            "El mínimo es  -8  y el máximo es  10\n"
          ]
        }
      ]
    }
  ]
}