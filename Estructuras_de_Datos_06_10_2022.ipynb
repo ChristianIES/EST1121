{
  "nbformat": 4,
  "nbformat_minor": 0,
  "metadata": {
    "colab": {
      "provenance": [],
      "collapsed_sections": [],
      "authorship_tag": "ABX9TyNlnV9Mu2q+xib/cvtdLSkM",
      "include_colab_link": true
    },
    "kernelspec": {
      "name": "python3",
      "display_name": "Python 3"
    },
    "language_info": {
      "name": "python"
    }
  },
  "cells": [
    {
      "cell_type": "markdown",
      "metadata": {
        "id": "view-in-github",
        "colab_type": "text"
      },
      "source": [
        "<a href=\"https://colab.research.google.com/github/ChristianIES/EST1121/blob/main/Estructuras_de_Datos_06_10_2022.ipynb\" target=\"_parent\"><img src=\"https://colab.research.google.com/assets/colab-badge.svg\" alt=\"Open In Colab\"/></a>"
      ]
    },
    {
      "cell_type": "code",
      "source": [
        "class Nodo:\n",
        "    def __init__(self,id,n,a):\n",
        "        self.izq=None\n",
        "        self.der=None\n",
        "        self.identificador=id\n",
        "        self.nombre=n\n",
        "        self.apellido=a\n"
      ],
      "metadata": {
        "id": "L3Rauyn9gYo-"
      },
      "execution_count": 1,
      "outputs": []
    },
    {
      "cell_type": "code",
      "source": [
        "#función fuera de las clases Nodo y Árbol:\n",
        "def PreordenConRecursividad(nodo):\n",
        "    if(nodo!=None):\n",
        "        print(\">\",nodo.identificador, \" - \", nodo.nombre, \" , \",nodo.apellido)          #\"visitar\" el nodo\n",
        "        PreordenConRecursividad(nodo.izq)\n",
        "        PreordenConRecursividad(nodo.der)\n",
        "\n",
        "def InordenConRecursividad(nodo):\n",
        "    if(nodo!=None):\n",
        "        InordenConRecursividad(nodo.izq)\n",
        "        print(\">\",nodo.identificador, \" - \", nodo.nombre, \" , \",nodo.apellido)\n",
        "        InordenConRecursividad(nodo.der)\n",
        "\n",
        "def PostordenConRecursividad(nodo):\n",
        "    if(nodo!=None):\n",
        "        PostordenConRecursividad(nodo.izq)\n",
        "        PostordenConRecursividad(nodo.der)\n",
        "        print(\">\",nodo.identificador, \" - \", nodo.nombre, \" , \",nodo.apellido)\n",
        "\n",
        "def BuscarConRecursividad(nodo,id):\n",
        "    if(nodo is None):\n",
        "        print(\"Búsqueda infactible. Árbol vacío.\")\n",
        "    elif(nodo.identificador==id):\n",
        "        print(\"Resultados\")\n",
        "        print(\"----------\")\n",
        "        print(nodo.identificador)\n",
        "        print(nodo.nombre)\n",
        "        print(nodo.apellido)\n",
        "    elif(id<=nodo.identificador):\n",
        "        BuscarConRecursividad(nodo.izq,id)\n",
        "    else:\n",
        "        BuscarConRecursividad(nodo.der,id)\n",
        "\n",
        "def AlturaRecursiva(nodo):\n",
        "    if(nodo==None):\n",
        "        return 0\n",
        "    else:\n",
        "        return 1+max(AlturaRecursiva(nodo.izq),AlturaRecursiva(nodo.der))"
      ],
      "metadata": {
        "id": "PTGMxMTlguUd"
      },
      "execution_count": 2,
      "outputs": []
    },
    {
      "cell_type": "code",
      "source": [
        "\n",
        "\n",
        "class Arbol:\n",
        "    def __init__(self):\n",
        "        self.raiz=None\n",
        "        self.contador=0\n",
        "\n",
        "    def agregar(self,id,n,a):\n",
        "        auxiliar=Nodo(id,n,a)\n",
        "        if(self.contador==0):\n",
        "            self.raiz=auxiliar\n",
        "            self.contador=self.contador+1\n",
        "            print(\"Se insertó elemento en árbol vacío.\")\n",
        "        else:\n",
        "            ini=self.raiz\n",
        "            while ini:\n",
        "                if(id<=ini.identificador):\n",
        "                    if(ini.izq==None):\n",
        "                        ini.izq=auxiliar\n",
        "                        self.contador=self.contador+1\n",
        "                        break\n",
        "                    else:\n",
        "                        ini=ini.izq\n",
        "                else:\n",
        "                    if(ini.der==None):\n",
        "                        ini.der=auxiliar\n",
        "                        self.contador=self.contador+1\n",
        "                        break\n",
        "                    else:\n",
        "                        ini=ini.der\n",
        "\n",
        "    def RecorrerPreorden(self):\n",
        "        print(\"- - Recorrido Preorden - -\")\n",
        "        PreordenConRecursividad(self.raiz)\n",
        "        print(\"- o -\")\n",
        "\n",
        "    def RecorrerInorden(self):\n",
        "        print(\"- - Recorrido Inorden - -\")\n",
        "        InordenConRecursividad(self.raiz)\n",
        "        print(\"- o -\")\n",
        "\n",
        "    def RecorrerPostorden(self):\n",
        "        print(\"- - Recorrido Postorden - -\")\n",
        "        PostordenConRecursividad(self.raiz)\n",
        "        print(\"- o -\")\n",
        "\n",
        "    def Buscar(self,id):\n",
        "        print(\"... buscando ...\")\n",
        "        BuscarConRecursividad(self.raiz,id)\n",
        "        print(\"- o -\")\n",
        "\n",
        "    def CuantosNodos(self):\n",
        "        return self.contador\n",
        "\n",
        "    def Altura(self):\n",
        "        print(\"Altura del árbol: \")\n",
        "        t=AlturaRecursiva(self.raiz)\n",
        "        print(t)\n",
        "        print(\"- o -\")"
      ],
      "metadata": {
        "id": "87LrcZw4hCPN"
      },
      "execution_count": 3,
      "outputs": []
    },
    {
      "cell_type": "code",
      "source": [
        "a=Arbol()\n",
        "a.agregar(1203,\"Christian\",\"Araya\")\n",
        "a.agregar(1101,\"Amelia\",\"Araya\")\n",
        "a.agregar(1190,\"Dana\", \"Scully\")\n",
        "a.agregar(901,\"Laura\", \"Palmer\")\n",
        "a.agregar(10000,\"Harry\", \"Potter\")\n",
        "a.agregar(10001,\"Thom\", \"Yorke\")\n",
        "#a.RecorrerPreorden()\n",
        "#a.RecorrerInorden()"
      ],
      "metadata": {
        "colab": {
          "base_uri": "https://localhost:8080/"
        },
        "id": "M_5stE_ZhQm2",
        "outputId": "10ebac0a-f104-447e-e8a8-223e49fb0d58"
      },
      "execution_count": 4,
      "outputs": [
        {
          "output_type": "stream",
          "name": "stdout",
          "text": [
            "Se insertó elemento en árbol vacío.\n"
          ]
        }
      ]
    },
    {
      "cell_type": "code",
      "source": [
        "#Búsqueda:\n",
        "a.Buscar(4000)\n",
        "#pendiente: ¿cómo abordar la búsqueda de un id que no existe?\n"
      ],
      "metadata": {
        "colab": {
          "base_uri": "https://localhost:8080/"
        },
        "id": "hgakSQsKhcxV",
        "outputId": "dfddeb9a-92a8-4813-c2a0-cefbbccdaae3"
      },
      "execution_count": 5,
      "outputs": [
        {
          "output_type": "stream",
          "name": "stdout",
          "text": [
            "... buscando ...\n",
            "Búsqueda infactible. Árbol vacío.\n",
            "- o -\n"
          ]
        }
      ]
    },
    {
      "cell_type": "code",
      "source": [
        "#Conteo de nodos:\n",
        "x=a.CuantosNodos()\n",
        "print(\"Nodos en el árbol: \")\n",
        "print(x)"
      ],
      "metadata": {
        "colab": {
          "base_uri": "https://localhost:8080/"
        },
        "id": "1usj9cZuhj4u",
        "outputId": "9842375b-763c-40df-ccb9-b90c30af62e3"
      },
      "execution_count": 6,
      "outputs": [
        {
          "output_type": "stream",
          "name": "stdout",
          "text": [
            "Nodos en el árbol: \n",
            "6\n"
          ]
        }
      ]
    }
  ]
}