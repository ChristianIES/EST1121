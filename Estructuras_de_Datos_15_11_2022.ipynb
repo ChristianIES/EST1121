{
  "nbformat": 4,
  "nbformat_minor": 0,
  "metadata": {
    "colab": {
      "provenance": [],
      "authorship_tag": "ABX9TyO2alHLsIEMmN+R3gcJTo/I",
      "include_colab_link": true
    },
    "kernelspec": {
      "name": "python3",
      "display_name": "Python 3"
    },
    "language_info": {
      "name": "python"
    }
  },
  "cells": [
    {
      "cell_type": "markdown",
      "metadata": {
        "id": "view-in-github",
        "colab_type": "text"
      },
      "source": [
        "<a href=\"https://colab.research.google.com/github/ChristianIES/EST1121/blob/main/Estructuras_de_Datos_15_11_2022.ipynb\" target=\"_parent\"><img src=\"https://colab.research.google.com/assets/colab-badge.svg\" alt=\"Open In Colab\"/></a>"
      ]
    },
    {
      "cell_type": "code",
      "execution_count": 1,
      "metadata": {
        "colab": {
          "base_uri": "https://localhost:8080/"
        },
        "id": "rDlyZ8tWZ-Gr",
        "outputId": "08cb392e-8d6a-4ff2-821a-2c5d73f0ca98"
      },
      "outputs": [
        {
          "output_type": "execute_result",
          "data": {
            "text/plain": [
              "{'key1': [3, 4, 5], 'key2': 'texto', 'clave': 5}"
            ]
          },
          "metadata": {},
          "execution_count": 1
        }
      ],
      "source": [
        "#Diccionarios: no tienen orden, pero se caracterizan por una clave\n",
        "dic={\"key1\" : [3,4,5], \"key2\" : \"texto\", \"clave\":5}\n",
        "dic"
      ]
    },
    {
      "cell_type": "code",
      "source": [
        "dic[\"clave\"]"
      ],
      "metadata": {
        "colab": {
          "base_uri": "https://localhost:8080/"
        },
        "id": "zX_EkCzEaEPd",
        "outputId": "b9535095-3736-4f3c-c0ef-085e5103a54b"
      },
      "execution_count": 2,
      "outputs": [
        {
          "output_type": "execute_result",
          "data": {
            "text/plain": [
              "5"
            ]
          },
          "metadata": {},
          "execution_count": 2
        }
      ]
    },
    {
      "cell_type": "code",
      "source": [
        "dic.values()                              #valores sin claves"
      ],
      "metadata": {
        "colab": {
          "base_uri": "https://localhost:8080/"
        },
        "id": "-6VhaZJyaGM2",
        "outputId": "2a0f4a77-37c9-43c0-9848-e8772d9eed39"
      },
      "execution_count": 3,
      "outputs": [
        {
          "output_type": "execute_result",
          "data": {
            "text/plain": [
              "dict_values([[3, 4, 5], 'texto', 5])"
            ]
          },
          "metadata": {},
          "execution_count": 3
        }
      ]
    },
    {
      "cell_type": "code",
      "source": [
        "dic.keys()                                #claves sin valores"
      ],
      "metadata": {
        "colab": {
          "base_uri": "https://localhost:8080/"
        },
        "id": "2YHuHFdWaH6p",
        "outputId": "f3ced6c7-46e9-489f-86d2-d46801602803"
      },
      "execution_count": 4,
      "outputs": [
        {
          "output_type": "execute_result",
          "data": {
            "text/plain": [
              "dict_keys(['key1', 'key2', 'clave'])"
            ]
          },
          "metadata": {},
          "execution_count": 4
        }
      ]
    },
    {
      "cell_type": "code",
      "source": [
        "list(dic)                                 #lista de las claves"
      ],
      "metadata": {
        "colab": {
          "base_uri": "https://localhost:8080/"
        },
        "id": "6ITW62ZAaJW9",
        "outputId": "116d96a4-2913-4ebf-abfc-fbab73084a71"
      },
      "execution_count": 5,
      "outputs": [
        {
          "output_type": "execute_result",
          "data": {
            "text/plain": [
              "['key1', 'key2', 'clave']"
            ]
          },
          "metadata": {},
          "execution_count": 5
        }
      ]
    },
    {
      "cell_type": "code",
      "source": [
        "list(dic.values())                        #lista de los valores"
      ],
      "metadata": {
        "colab": {
          "base_uri": "https://localhost:8080/"
        },
        "id": "19_fo1zfaKw_",
        "outputId": "797e3f27-53bf-4a55-e933-6689eb3dbdc0"
      },
      "execution_count": 6,
      "outputs": [
        {
          "output_type": "execute_result",
          "data": {
            "text/plain": [
              "[[3, 4, 5], 'texto', 5]"
            ]
          },
          "metadata": {},
          "execution_count": 6
        }
      ]
    },
    {
      "cell_type": "markdown",
      "source": [
        "* Ejemplo:"
      ],
      "metadata": {
        "id": "fEn3130DaLrH"
      }
    },
    {
      "cell_type": "code",
      "source": [
        "dic={\"Casa\" : \"House\", \"Desarrollo\" : \"Development\", \"Pizarra\":\"Whiteboard\"}\n",
        "dic"
      ],
      "metadata": {
        "colab": {
          "base_uri": "https://localhost:8080/"
        },
        "id": "blDJVNwzaNEI",
        "outputId": "bc3d6ea9-dc58-4388-8a97-6094abddd4bd"
      },
      "execution_count": 7,
      "outputs": [
        {
          "output_type": "execute_result",
          "data": {
            "text/plain": [
              "{'Casa': 'House', 'Desarrollo': 'Development', 'Pizarra': 'Whiteboard'}"
            ]
          },
          "metadata": {},
          "execution_count": 7
        }
      ]
    },
    {
      "cell_type": "code",
      "source": [
        "dic[\"Casa\"]"
      ],
      "metadata": {
        "colab": {
          "base_uri": "https://localhost:8080/",
          "height": 35
        },
        "id": "-MFkgbTdaU8R",
        "outputId": "20423639-3b06-4d89-fa28-e67519bff1b4"
      },
      "execution_count": 8,
      "outputs": [
        {
          "output_type": "execute_result",
          "data": {
            "text/plain": [
              "'House'"
            ],
            "application/vnd.google.colaboratory.intrinsic+json": {
              "type": "string"
            }
          },
          "metadata": {},
          "execution_count": 8
        }
      ]
    },
    {
      "cell_type": "code",
      "source": [
        "dic[\"Lapiz\"]"
      ],
      "metadata": {
        "colab": {
          "base_uri": "https://localhost:8080/",
          "height": 169
        },
        "id": "iaxCDTrBakhx",
        "outputId": "f98066e8-a009-4944-dc36-22d9e4ea4d06"
      },
      "execution_count": 9,
      "outputs": [
        {
          "output_type": "error",
          "ename": "KeyError",
          "evalue": "ignored",
          "traceback": [
            "\u001b[0;31m---------------------------------------------------------------------------\u001b[0m",
            "\u001b[0;31mKeyError\u001b[0m                                  Traceback (most recent call last)",
            "\u001b[0;32m<ipython-input-9-6f1df4d05895>\u001b[0m in \u001b[0;36m<module>\u001b[0;34m\u001b[0m\n\u001b[0;32m----> 1\u001b[0;31m \u001b[0mdic\u001b[0m\u001b[0;34m[\u001b[0m\u001b[0;34m\"Lapiz\"\u001b[0m\u001b[0;34m]\u001b[0m\u001b[0;34m\u001b[0m\u001b[0;34m\u001b[0m\u001b[0m\n\u001b[0m",
            "\u001b[0;31mKeyError\u001b[0m: 'Lapiz'"
          ]
        }
      ]
    },
    {
      "cell_type": "markdown",
      "source": [
        "* Ejemplo de uso:"
      ],
      "metadata": {
        "id": "H8HOkJClXA9k"
      }
    },
    {
      "cell_type": "markdown",
      "source": [
        "**Coeficiente de correlación de Spearman ($\\rho$)**: es una medida de la correlación (la asociación o interdependencia) entre dos variables aleatorias (tanto continuas como discretas). Para calcular $\\rho$, los datos son ordenados y reemplazados por su respectivo orden.\n",
        "\n",
        "El estadístico está dado por:\n",
        "\n",
        "$$\\rho = 1 - \\frac{6\\sum_i D_{(i)}^2}{N(N^2-1)}$$\n",
        "\n",
        "donde $D_{(i)}$ es la diferencia entre los correspondientes estadísticos de orden de $x$ e $y$. $N$ es el número de parejas de datos.\n"
      ],
      "metadata": {
        "id": "1SDYhwDzXCon"
      }
    },
    {
      "cell_type": "code",
      "source": [
        "#Para ordenar con método burbuja:\n",
        "\n",
        "def OrdenarBurbuja(set1):\n",
        "  flag = True\n",
        "  n=len(set1)\n",
        "  while flag:\n",
        "      flag=False\n",
        "      for i in range(0,n-1):\n",
        "        if set1[i]>set1[i+1]:\n",
        "          aux=set1[i]\n",
        "          set1[i]=set1[i+1]\n",
        "          set1[i+1]=aux\n",
        "          flag=True\n",
        "          #print(set1)\n",
        "  return set1\n"
      ],
      "metadata": {
        "id": "c8I7FvJRXB95"
      },
      "execution_count": 10,
      "outputs": []
    },
    {
      "cell_type": "markdown",
      "source": [
        "Ejemplo:"
      ],
      "metadata": {
        "id": "Odw1gagHYUfN"
      }
    },
    {
      "cell_type": "code",
      "source": [
        "Dato=[1.5,2.89,-0.08,-2.93,-1.35,2.26,2.47,-1.05,-2.98,-0.41,2.78,1.78,-1.91,-2.71,0.58,3.,0.9,-2.56,-2.15,1.5]\n",
        "OrdenarBurbuja(Dato)"
      ],
      "metadata": {
        "colab": {
          "base_uri": "https://localhost:8080/"
        },
        "id": "8zhWqRVWYV7s",
        "outputId": "62dfcef4-8fd3-4c3a-daaf-cb1871353f77"
      },
      "execution_count": 11,
      "outputs": [
        {
          "output_type": "execute_result",
          "data": {
            "text/plain": [
              "[-2.98,\n",
              " -2.93,\n",
              " -2.71,\n",
              " -2.56,\n",
              " -2.15,\n",
              " -1.91,\n",
              " -1.35,\n",
              " -1.05,\n",
              " -0.41,\n",
              " -0.08,\n",
              " 0.58,\n",
              " 0.9,\n",
              " 1.5,\n",
              " 1.5,\n",
              " 1.78,\n",
              " 2.26,\n",
              " 2.47,\n",
              " 2.78,\n",
              " 2.89,\n",
              " 3.0]"
            ]
          },
          "metadata": {},
          "execution_count": 11
        }
      ]
    },
    {
      "cell_type": "code",
      "source": [
        "#Para promediar los rangos de los datos repetidos:\n",
        "  \n",
        "def Correccion(datos,datosordenados):\n",
        "    result=[0]*len(datos)\n",
        "    for j in range(0, len(datos)):\n",
        "      contador=0\n",
        "      sum=0\n",
        "      for k in range(0, len(datosordenados)):\n",
        "        if datos[j]==datosordenados[k]:\n",
        "          sum=sum+(k+1)\n",
        "          contador+=1\n",
        "      result[j]=(sum/contador)\n",
        "    return result"
      ],
      "metadata": {
        "id": "i8GBFdhlX8OD"
      },
      "execution_count": 12,
      "outputs": []
    },
    {
      "cell_type": "markdown",
      "source": [
        "Ejemplo:"
      ],
      "metadata": {
        "id": "YkmazGptYcFQ"
      }
    },
    {
      "cell_type": "code",
      "source": [
        "[0]*len(Dato)"
      ],
      "metadata": {
        "colab": {
          "base_uri": "https://localhost:8080/"
        },
        "id": "Qk4MnmKhZFHs",
        "outputId": "9e8530b1-79c4-4499-aac1-fed4246dfa84"
      },
      "execution_count": 13,
      "outputs": [
        {
          "output_type": "execute_result",
          "data": {
            "text/plain": [
              "[0, 0, 0, 0, 0, 0, 0, 0, 0, 0, 0, 0, 0, 0, 0, 0, 0, 0, 0, 0]"
            ]
          },
          "metadata": {},
          "execution_count": 13
        }
      ]
    },
    {
      "cell_type": "code",
      "source": [
        "Correccion(Dato,OrdenarBurbuja(Dato))"
      ],
      "metadata": {
        "colab": {
          "base_uri": "https://localhost:8080/"
        },
        "id": "ohLV_IhnYdsx",
        "outputId": "7ccdda2d-6a7c-4cf1-cbe7-13b9eaad7ce9"
      },
      "execution_count": 14,
      "outputs": [
        {
          "output_type": "execute_result",
          "data": {
            "text/plain": [
              "[1.0,\n",
              " 2.0,\n",
              " 3.0,\n",
              " 4.0,\n",
              " 5.0,\n",
              " 6.0,\n",
              " 7.0,\n",
              " 8.0,\n",
              " 9.0,\n",
              " 10.0,\n",
              " 11.0,\n",
              " 12.0,\n",
              " 13.5,\n",
              " 13.5,\n",
              " 15.0,\n",
              " 16.0,\n",
              " 17.0,\n",
              " 18.0,\n",
              " 19.0,\n",
              " 20.0]"
            ]
          },
          "metadata": {},
          "execution_count": 14
        }
      ]
    },
    {
      "cell_type": "code",
      "source": [
        "#Para calcular la correlación de Spearman:\n",
        "\n",
        "def Spearman(dato1,dato2):\n",
        "  dato1O=OrdenarBurbuja(dato1)\n",
        "  dato2O=OrdenarBurbuja(dato2)\n",
        "  dic1=dict(zip(dato1O, Correccion(dato1,dato1O)))\n",
        "  dic2=dict(zip(dato2O, Correccion(dato2,dato2O)))\n",
        "  print(dic1)\n",
        "  print(dic2)\n",
        "  if len(dato1)!=len(dato2):\n",
        "    print(\"Se requieren sets de datos del mismo tamaño.\")\n",
        "  else:\n",
        "    n=len(dato1)\n",
        "    suma=0\n",
        "    for i in range(0,n):\n",
        "      suma=suma+(dic1[dato1[i]]-dic2[dato2[i]])**2\n",
        "    coef=1-6*(suma)/(n*(n**2-1))\n",
        "  return round(coef,3)"
      ],
      "metadata": {
        "id": "2ZKjCO9sX-Cs"
      },
      "execution_count": 15,
      "outputs": []
    },
    {
      "cell_type": "markdown",
      "source": [
        "Calcular el coeficiente de correlación de Spearman para los siguientes datos:\n",
        "\n",
        "Dato = { 1.5 , 2.89, -0.08, -2.93, -1.35, 2.26, 2.47, -1.05, -2.98, -0.41, 2.78, 1.78, -1.91, -2.71, 0.58, 3. , 0.9 , -2.56, -2.15, 1.5 }\n",
        "\n",
        "Predicción = { 3.58, 4.3 , 0.5 , -3.11, -1.94, 3.71, 1.56, -1.55, -2.77, -0.51, 2.93, 2.14, -1.76, -1.96, -0.51, 2.96, -0.34, -3.33, -3.49, 1.5}"
      ],
      "metadata": {
        "id": "CHlmELOvYEzb"
      }
    },
    {
      "cell_type": "code",
      "source": [
        "Dato=[1.5,2.89,-0.08,-2.93,-1.35,2.26,2.47,-1.05,-2.98,-0.41,2.78,1.78,-1.91,-2.71,0.58,3.,0.9,-2.56,-2.15,1.5]\n",
        "Prediccion=[3.58,4.3,0.5,-3.11,-1.94,3.71,1.56,-1.55,-2.77,-0.51,2.93,2.14,-1.76,-1.96,-0.51,2.96,-0.34,-3.33,-3.49,1.5]\n",
        "x=Spearman(Dato,Prediccion)\n",
        "print(\"La correlación de Spearman es (redondeada a 3 decimales): \", x)\n"
      ],
      "metadata": {
        "colab": {
          "base_uri": "https://localhost:8080/"
        },
        "id": "BBP8-1Y2YFV7",
        "outputId": "fb3ba92a-8b45-40e5-fc0b-596ffd836ee7"
      },
      "execution_count": 16,
      "outputs": [
        {
          "output_type": "stream",
          "name": "stdout",
          "text": [
            "{-2.98: 1.0, -2.93: 2.0, -2.71: 3.0, -2.56: 4.0, -2.15: 5.0, -1.91: 6.0, -1.35: 7.0, -1.05: 8.0, -0.41: 9.0, -0.08: 10.0, 0.58: 11.0, 0.9: 12.0, 1.5: 13.5, 1.78: 15.0, 2.26: 16.0, 2.47: 17.0, 2.78: 18.0, 2.89: 19.0, 3.0: 20.0}\n",
            "{-3.49: 1.0, -3.33: 2.0, -3.11: 3.0, -2.77: 4.0, -1.96: 5.0, -1.94: 6.0, -1.76: 7.0, -1.55: 8.0, -0.51: 9.5, -0.34: 11.0, 0.5: 12.0, 1.5: 13.0, 1.56: 14.0, 2.14: 15.0, 2.93: 16.0, 2.96: 17.0, 3.58: 18.0, 3.71: 19.0, 4.3: 20.0}\n",
            "La correlación de Spearman es (redondeada a 3 decimales):  0.999\n"
          ]
        }
      ]
    }
  ]
}