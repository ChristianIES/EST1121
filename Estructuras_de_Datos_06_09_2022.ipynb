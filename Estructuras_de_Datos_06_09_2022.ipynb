{
  "nbformat": 4,
  "nbformat_minor": 0,
  "metadata": {
    "colab": {
      "provenance": [],
      "collapsed_sections": [],
      "authorship_tag": "ABX9TyOZS5mUZnK7Q1V+cGJ0f8gt",
      "include_colab_link": true
    },
    "kernelspec": {
      "name": "python3",
      "display_name": "Python 3"
    },
    "language_info": {
      "name": "python"
    }
  },
  "cells": [
    {
      "cell_type": "markdown",
      "metadata": {
        "id": "view-in-github",
        "colab_type": "text"
      },
      "source": [
        "<a href=\"https://colab.research.google.com/github/ChristianIES/EST1121/blob/main/Estructuras_de_Datos_06_09_2022.ipynb\" target=\"_parent\"><img src=\"https://colab.research.google.com/assets/colab-badge.svg\" alt=\"Open In Colab\"/></a>"
      ]
    },
    {
      "cell_type": "markdown",
      "source": [
        "* Ejercicio 1: clase Nodo\n"
      ],
      "metadata": {
        "id": "QFNf-CtHAyEe"
      }
    },
    {
      "cell_type": "code",
      "execution_count": 10,
      "metadata": {
        "id": "J5W2gcbRAtR6"
      },
      "outputs": [],
      "source": [
        "class Nodo:\n",
        "\n",
        "    def __init__(self,ing=None, esp=None, numero=None,next=None):\n",
        "        self.id=numero\n",
        "        self.ingles=ing\n",
        "        self.castellano=esp\n",
        "        self.proximo=next\n"
      ]
    },
    {
      "cell_type": "markdown",
      "source": [
        "* Ejercicio 1: lista enlazada\n"
      ],
      "metadata": {
        "id": "_MKu1d6cBuvI"
      }
    },
    {
      "cell_type": "code",
      "source": [
        "class listaEnlazada:\n",
        "    def __init__(self):                     #crear lista vacía (constructor)\n",
        "        self.cabecera = None\n",
        "        self.items=0                        #contador de elementos (palabras) en la lista\n",
        "\n",
        "    #agregaremos por el final, para dar un sentido de orden (aunque el enunciado no lo pide! también es válido por la cabecera)\n",
        "    def agregar(self, i, e):\n",
        "        if self.cabecera==None:\n",
        "            self.items=self.items+1\n",
        "            self.cabecera = Nodo(i,e,self.items,None)\n",
        "        else:\n",
        "            ini = self.cabecera\n",
        "            while ini.proximo:\n",
        "                ini = ini.proximo\n",
        "            self.items=self.items+1\n",
        "            ini.proximo = Nodo(i,e,self.items,None)\n",
        "\n",
        "    #imprimiendo la lista de nodos\n",
        "    def imprimir(self):\n",
        "        ini = self.cabecera\n",
        "        while ini != None:\n",
        "            print(ini.id,\" \",ini.ingles,\" \",ini.castellano,\" -> \")\n",
        "            ini = ini.proximo\n",
        "    \n",
        "    #buscando el significado de una palabra\n",
        "    def buscar(self,dato):\n",
        "        print(\"Buscando palabra: \",dato)\n",
        "        ini = self.cabecera\n",
        "        while ini != None:\n",
        "            if(ini.castellano==dato):\n",
        "                print(ini.id,\" \",ini.ingles,\" \",ini.castellano)\n",
        "            ini = ini.proximo\n",
        "\n",
        "    #para devolver cuántas entradas tiene el diccionario:\n",
        "    def contar(self):\n",
        "        if(self.cabecera==None):\n",
        "            return(0)\n",
        "        else:\n",
        "            return(self.items)\n",
        "\n",
        "\n",
        "    \n",
        "\n",
        "    \n",
        "\n"
      ],
      "metadata": {
        "id": "x8-MYAPRB1bs"
      },
      "execution_count": 11,
      "outputs": []
    },
    {
      "cell_type": "markdown",
      "source": [
        "* Prueba de uso de la clase:"
      ],
      "metadata": {
        "id": "uxqhwy5sBmsk"
      }
    },
    {
      "cell_type": "code",
      "source": [
        "s = listaEnlazada()\n",
        "s.agregar(\"house\", \"casa\")\n",
        "s.agregar(\"pineapple\", \"piña\")\n",
        "s.agregar(\"dog\",\"perro\")\n",
        "s.agregar(\"orchestra\",\"orquesta\")\n",
        "s.agregar(\"table\",\"mesa\")\n",
        "x=s.contar()\n",
        "print(\"La lista contiene: \",x, \" palabras.\")"
      ],
      "metadata": {
        "colab": {
          "base_uri": "https://localhost:8080/"
        },
        "id": "3fNM9rOPB893",
        "outputId": "0b71c9ee-d3ad-4377-f430-6d654b8d231d"
      },
      "execution_count": 13,
      "outputs": [
        {
          "output_type": "stream",
          "name": "stdout",
          "text": [
            "La lista contiene:  5  palabras.\n"
          ]
        }
      ]
    },
    {
      "cell_type": "code",
      "source": [
        "s.imprimir()"
      ],
      "metadata": {
        "colab": {
          "base_uri": "https://localhost:8080/"
        },
        "id": "ltJlS1WpYqvn",
        "outputId": "2f128a0e-95d5-452f-d606-32bbcbf10ba7"
      },
      "execution_count": 14,
      "outputs": [
        {
          "output_type": "stream",
          "name": "stdout",
          "text": [
            "1   house   casa  -> \n",
            "2   pineapple   piña  -> \n",
            "3   dog   perro  -> \n",
            "4   orchestra   orquesta  -> \n",
            "5   table   mesa  -> \n"
          ]
        }
      ]
    },
    {
      "cell_type": "code",
      "source": [
        "s.buscar(\"orquesta\")"
      ],
      "metadata": {
        "colab": {
          "base_uri": "https://localhost:8080/"
        },
        "id": "WEhcC7IPY7CI",
        "outputId": "cef859b7-35d8-48e5-f606-6ad5443a3f72"
      },
      "execution_count": 15,
      "outputs": [
        {
          "output_type": "stream",
          "name": "stdout",
          "text": [
            "Buscando palabra:  orquesta\n",
            "4   orchestra   orquesta\n"
          ]
        }
      ]
    }
  ]
}