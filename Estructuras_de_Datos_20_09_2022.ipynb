{
  "nbformat": 4,
  "nbformat_minor": 0,
  "metadata": {
    "colab": {
      "provenance": [],
      "collapsed_sections": [],
      "authorship_tag": "ABX9TyMbvuNNW/za5bzNuyY7H1NA",
      "include_colab_link": true
    },
    "kernelspec": {
      "name": "python3",
      "display_name": "Python 3"
    },
    "language_info": {
      "name": "python"
    }
  },
  "cells": [
    {
      "cell_type": "markdown",
      "metadata": {
        "id": "view-in-github",
        "colab_type": "text"
      },
      "source": [
        "<a href=\"https://colab.research.google.com/github/ChristianIES/EST1121/blob/main/Estructuras_de_Datos_20_09_2022.ipynb\" target=\"_parent\"><img src=\"https://colab.research.google.com/assets/colab-badge.svg\" alt=\"Open In Colab\"/></a>"
      ]
    },
    {
      "cell_type": "code",
      "execution_count": null,
      "metadata": {
        "id": "BSAY_wxUYSnp"
      },
      "outputs": [],
      "source": [
        "class Nodo:\n",
        "  def __init__(self, dato):\n",
        "    self.data=dato\n",
        "    self.proximo=None"
      ]
    },
    {
      "cell_type": "code",
      "source": [
        "class Pila:\n",
        "  def __init__(self):\n",
        "    self.cima=None\n",
        "    self.items=0\n",
        "  \n",
        "  def agregar(self, numero):\n",
        "    nodo1=Nodo(numero)\n",
        "    nodo1.proximo=self.cima\n",
        "    self.items=self.items+1\n",
        "    self.cima=nodo1\n",
        "  \n",
        "  def imprimirCima(self):\n",
        "    return(self.cima.data)       \n",
        "  \n",
        "  def eliminar(self):\n",
        "    if self.items==0:\n",
        "      print(\"Pila vacia\")\n",
        "    else:\n",
        "      self.items=self.items-1\n",
        "      print(\"Se ha eliminado: \", self.cima.data)\n",
        "      self.cima=self.cima.proximo\n",
        "  \n"
      ],
      "metadata": {
        "id": "9T9ERyjlfQOV"
      },
      "execution_count": null,
      "outputs": []
    },
    {
      "cell_type": "code",
      "source": [
        "p=Pila()\n",
        "p.agregar(10)\n",
        "p.agregar(11)\n",
        "print(p.cima.data)"
      ],
      "metadata": {
        "colab": {
          "base_uri": "https://localhost:8080/"
        },
        "id": "DEd50fDVjo6K",
        "outputId": "cda0bddd-0c7a-45a6-ce1c-8f3a666d8616"
      },
      "execution_count": null,
      "outputs": [
        {
          "output_type": "stream",
          "name": "stdout",
          "text": [
            "11\n"
          ]
        }
      ]
    },
    {
      "cell_type": "code",
      "source": [
        "print(p.imprimirCima())"
      ],
      "metadata": {
        "colab": {
          "base_uri": "https://localhost:8080/"
        },
        "id": "t8TETHypkBLS",
        "outputId": "538f779c-99b7-44ae-c011-7991933c4af7"
      },
      "execution_count": null,
      "outputs": [
        {
          "output_type": "stream",
          "name": "stdout",
          "text": [
            "11\n"
          ]
        }
      ]
    },
    {
      "cell_type": "code",
      "source": [
        "p.eliminar()"
      ],
      "metadata": {
        "colab": {
          "base_uri": "https://localhost:8080/"
        },
        "id": "0G_B_n40k5TC",
        "outputId": "2a5c4591-2794-4f34-fa1b-ab6ff7ac397e"
      },
      "execution_count": null,
      "outputs": [
        {
          "output_type": "stream",
          "name": "stdout",
          "text": [
            "Se ha eliminado:  11\n"
          ]
        }
      ]
    },
    {
      "cell_type": "code",
      "source": [
        "p.eliminar()"
      ],
      "metadata": {
        "colab": {
          "base_uri": "https://localhost:8080/"
        },
        "id": "1snTtKagfyfu",
        "outputId": "b01f8b87-d5e7-4c66-e60d-6bb6f83241bb"
      },
      "execution_count": null,
      "outputs": [
        {
          "output_type": "stream",
          "name": "stdout",
          "text": [
            "Se ha eliminado:  10\n"
          ]
        }
      ]
    },
    {
      "cell_type": "code",
      "source": [
        "p.eliminar()"
      ],
      "metadata": {
        "colab": {
          "base_uri": "https://localhost:8080/"
        },
        "id": "oPmylK40lm4p",
        "outputId": "68b2e404-a90e-4aa1-97ea-4da49ddc7e76"
      },
      "execution_count": null,
      "outputs": [
        {
          "output_type": "stream",
          "name": "stdout",
          "text": [
            "Pila vacia\n"
          ]
        }
      ]
    }
  ]
}